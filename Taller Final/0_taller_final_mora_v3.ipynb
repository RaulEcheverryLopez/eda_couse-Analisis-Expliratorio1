{
 "cells": [
  {
   "cell_type": "markdown",
   "id": "540c857a",
   "metadata": {},
   "source": [
    "# Taller Final: Análisis Exploratorio de Datos\n",
    "# Propensión de Mora\n",
    "\n",
    "## Presentado por: Raul Echeverry Lopez y Esteban Ordoñez Erazo\n",
    "---\n",
    "## Tabla de Contenido:\n",
    "### 1. Pregunta Smart\n",
    "### 2. Obtención de Datos\n",
    "### 3. Análisis Estructural\n",
    "### 4. Análisis univariado y normalización\n",
    "####    4.1. Análisis univariado categórico\n",
    "####   4.2. Análisis univariado númerico\n",
    "####    4.3. Conclusiones y recomendaciones\n",
    "### 5. Análisis multivariado y normalización\n",
    "####    5.1. Conclusiones y recomendaciones\n",
    "### 6. Modelo Predictivo de Mora\n",
    "---\n",
    "---"
   ]
  },
  {
   "cell_type": "markdown",
   "id": "59207e0f",
   "metadata": {
    "jp-MarkdownHeadingCollapsed": true
   },
   "source": [
    "## 1. Pregunta Smart  (Luis Ordoñez / Raul Echeverry)\n",
    "### ¿Qué características tiene los clientes que caen en mora?"
   ]
  },
  {
   "cell_type": "markdown",
   "id": "0cc0b40c",
   "metadata": {},
   "source": [
    "## 2. Obtener los datos\n",
    "\n",
    "### Obtenemos datos a partir archivo provisiones de la entidad"
   ]
  },
  {
   "cell_type": "code",
   "execution_count": 1,
   "id": "153bd8af",
   "metadata": {},
   "outputs": [],
   "source": [
    "#Cargamos librerias\n",
    "\n",
    "\n",
    "import pandas as pd\n",
    "import numpy as np\n",
    "import matplotlib.pyplot as plt\n",
    "from matplotlib import rcParams\n",
    "import seaborn as sns"
   ]
  },
  {
   "cell_type": "code",
   "execution_count": 2,
   "id": "c634026c",
   "metadata": {
    "scrolled": true
   },
   "outputs": [],
   "source": [
    "# Cargamos el dataset\n",
    "\n",
    "df=pd.read_csv(\"0_mora_v3.csv\",  encoding=\"latin-1\", sep=';',decimal=\",\")"
   ]
  },
  {
   "cell_type": "code",
   "execution_count": 3,
   "id": "329b3315",
   "metadata": {
    "scrolled": true
   },
   "outputs": [
    {
     "data": {
      "text/html": [
       "<div>\n",
       "<style scoped>\n",
       "    .dataframe tbody tr th:only-of-type {\n",
       "        vertical-align: middle;\n",
       "    }\n",
       "\n",
       "    .dataframe tbody tr th {\n",
       "        vertical-align: top;\n",
       "    }\n",
       "\n",
       "    .dataframe thead th {\n",
       "        text-align: right;\n",
       "    }\n",
       "</style>\n",
       "<table border=\"1\" class=\"dataframe\">\n",
       "  <thead>\n",
       "    <tr style=\"text-align: right;\">\n",
       "      <th></th>\n",
       "      <th>ID</th>\n",
       "      <th>Sector_Actividad</th>\n",
       "      <th>Tasa</th>\n",
       "      <th>Monto</th>\n",
       "      <th>Plazo_Meses</th>\n",
       "      <th>Antiguedad</th>\n",
       "      <th>Sexo</th>\n",
       "      <th>Tipo_Vivienda</th>\n",
       "      <th>Tipo_cliente</th>\n",
       "      <th>Edad</th>\n",
       "      <th>Personas_a_Cargo</th>\n",
       "      <th>Estado_Civil</th>\n",
       "      <th>Mora</th>\n",
       "    </tr>\n",
       "  </thead>\n",
       "  <tbody>\n",
       "    <tr>\n",
       "      <th>0</th>\n",
       "      <td>1</td>\n",
       "      <td>COMERCIO</td>\n",
       "      <td>52.89</td>\n",
       "      <td>2400000</td>\n",
       "      <td>12</td>\n",
       "      <td>2</td>\n",
       "      <td>1.0</td>\n",
       "      <td>Arrendada</td>\n",
       "      <td>Nuevo</td>\n",
       "      <td>24</td>\n",
       "      <td>0</td>\n",
       "      <td>Unión Libre</td>\n",
       "      <td>No</td>\n",
       "    </tr>\n",
       "    <tr>\n",
       "      <th>1</th>\n",
       "      <td>2</td>\n",
       "      <td>AGRICULTURA</td>\n",
       "      <td>55.00</td>\n",
       "      <td>5582000</td>\n",
       "      <td>23</td>\n",
       "      <td>2</td>\n",
       "      <td>1.0</td>\n",
       "      <td>Arrendada</td>\n",
       "      <td>Nuevo</td>\n",
       "      <td>34</td>\n",
       "      <td>1</td>\n",
       "      <td>Casado/a</td>\n",
       "      <td>Si</td>\n",
       "    </tr>\n",
       "    <tr>\n",
       "      <th>2</th>\n",
       "      <td>3</td>\n",
       "      <td>COMERCIO</td>\n",
       "      <td>52.39</td>\n",
       "      <td>2300000</td>\n",
       "      <td>20</td>\n",
       "      <td>2</td>\n",
       "      <td>1.0</td>\n",
       "      <td>Arrendada</td>\n",
       "      <td>Nuevo</td>\n",
       "      <td>23</td>\n",
       "      <td>0</td>\n",
       "      <td>Soltero/a</td>\n",
       "      <td>No</td>\n",
       "    </tr>\n",
       "    <tr>\n",
       "      <th>3</th>\n",
       "      <td>4</td>\n",
       "      <td>ARTESANÍAS</td>\n",
       "      <td>55.20</td>\n",
       "      <td>1774000</td>\n",
       "      <td>16</td>\n",
       "      <td>2</td>\n",
       "      <td>2.0</td>\n",
       "      <td>Familiar</td>\n",
       "      <td>Nuevo</td>\n",
       "      <td>22</td>\n",
       "      <td>0</td>\n",
       "      <td>Soltero/a</td>\n",
       "      <td>No</td>\n",
       "    </tr>\n",
       "    <tr>\n",
       "      <th>4</th>\n",
       "      <td>5</td>\n",
       "      <td>SERVICIOS</td>\n",
       "      <td>63.00</td>\n",
       "      <td>2000000</td>\n",
       "      <td>14</td>\n",
       "      <td>2</td>\n",
       "      <td>1.0</td>\n",
       "      <td>Familiar</td>\n",
       "      <td>Nuevo</td>\n",
       "      <td>21</td>\n",
       "      <td>0</td>\n",
       "      <td>Soltero/a</td>\n",
       "      <td>No</td>\n",
       "    </tr>\n",
       "    <tr>\n",
       "      <th>5</th>\n",
       "      <td>6</td>\n",
       "      <td>SERVICIOS</td>\n",
       "      <td>52.89</td>\n",
       "      <td>4100000</td>\n",
       "      <td>18</td>\n",
       "      <td>2</td>\n",
       "      <td>1.0</td>\n",
       "      <td>Familiar</td>\n",
       "      <td>Nuevo</td>\n",
       "      <td>23</td>\n",
       "      <td>1</td>\n",
       "      <td>Unión Libre</td>\n",
       "      <td>No</td>\n",
       "    </tr>\n",
       "    <tr>\n",
       "      <th>6</th>\n",
       "      <td>7</td>\n",
       "      <td>SERVICIOS</td>\n",
       "      <td>52.39</td>\n",
       "      <td>1300000</td>\n",
       "      <td>12</td>\n",
       "      <td>2</td>\n",
       "      <td>2.0</td>\n",
       "      <td>Familiar</td>\n",
       "      <td>Nuevo</td>\n",
       "      <td>21</td>\n",
       "      <td>0</td>\n",
       "      <td>Soltero/a</td>\n",
       "      <td>Si</td>\n",
       "    </tr>\n",
       "    <tr>\n",
       "      <th>7</th>\n",
       "      <td>8</td>\n",
       "      <td>COMERCIO</td>\n",
       "      <td>52.89</td>\n",
       "      <td>3500000</td>\n",
       "      <td>12</td>\n",
       "      <td>2</td>\n",
       "      <td>2.0</td>\n",
       "      <td>Familiar</td>\n",
       "      <td>Nuevo</td>\n",
       "      <td>20</td>\n",
       "      <td>0</td>\n",
       "      <td>Soltero/a</td>\n",
       "      <td>No</td>\n",
       "    </tr>\n",
       "    <tr>\n",
       "      <th>8</th>\n",
       "      <td>9</td>\n",
       "      <td>COMERCIO</td>\n",
       "      <td>51.50</td>\n",
       "      <td>6581000</td>\n",
       "      <td>19</td>\n",
       "      <td>2</td>\n",
       "      <td>1.0</td>\n",
       "      <td>Arrendada</td>\n",
       "      <td>Nuevo</td>\n",
       "      <td>24</td>\n",
       "      <td>0</td>\n",
       "      <td>Soltero/a</td>\n",
       "      <td>Si</td>\n",
       "    </tr>\n",
       "    <tr>\n",
       "      <th>9</th>\n",
       "      <td>10</td>\n",
       "      <td>COMERCIO</td>\n",
       "      <td>52.39</td>\n",
       "      <td>2440000</td>\n",
       "      <td>18</td>\n",
       "      <td>2</td>\n",
       "      <td>1.0</td>\n",
       "      <td>Familiar</td>\n",
       "      <td>Nuevo</td>\n",
       "      <td>23</td>\n",
       "      <td>0</td>\n",
       "      <td>Soltero/a</td>\n",
       "      <td>No</td>\n",
       "    </tr>\n",
       "  </tbody>\n",
       "</table>\n",
       "</div>"
      ],
      "text/plain": [
       "   ID Sector_Actividad   Tasa    Monto  Plazo_Meses  Antiguedad  Sexo  \\\n",
       "0   1         COMERCIO  52.89  2400000           12           2   1.0   \n",
       "1   2      AGRICULTURA  55.00  5582000           23           2   1.0   \n",
       "2   3         COMERCIO  52.39  2300000           20           2   1.0   \n",
       "3   4       ARTESANÍAS  55.20  1774000           16           2   2.0   \n",
       "4   5        SERVICIOS  63.00  2000000           14           2   1.0   \n",
       "5   6        SERVICIOS  52.89  4100000           18           2   1.0   \n",
       "6   7        SERVICIOS  52.39  1300000           12           2   2.0   \n",
       "7   8         COMERCIO  52.89  3500000           12           2   2.0   \n",
       "8   9         COMERCIO  51.50  6581000           19           2   1.0   \n",
       "9  10         COMERCIO  52.39  2440000           18           2   1.0   \n",
       "\n",
       "  Tipo_Vivienda Tipo_cliente  Edad  Personas_a_Cargo Estado_Civil Mora  \n",
       "0     Arrendada        Nuevo    24                 0  Unión Libre   No  \n",
       "1     Arrendada        Nuevo    34                 1     Casado/a   Si  \n",
       "2     Arrendada        Nuevo    23                 0    Soltero/a   No  \n",
       "3      Familiar        Nuevo    22                 0    Soltero/a   No  \n",
       "4      Familiar        Nuevo    21                 0    Soltero/a   No  \n",
       "5      Familiar        Nuevo    23                 1  Unión Libre   No  \n",
       "6      Familiar        Nuevo    21                 0    Soltero/a   Si  \n",
       "7      Familiar        Nuevo    20                 0    Soltero/a   No  \n",
       "8     Arrendada        Nuevo    24                 0    Soltero/a   Si  \n",
       "9      Familiar        Nuevo    23                 0    Soltero/a   No  "
      ]
     },
     "execution_count": 3,
     "metadata": {},
     "output_type": "execute_result"
    }
   ],
   "source": [
    "#observamos los 10 primeros registros del dataset\n",
    "df.head(10)"
   ]
  },
  {
   "cell_type": "code",
   "execution_count": 4,
   "id": "cf944c29",
   "metadata": {},
   "outputs": [
    {
     "data": {
      "text/html": [
       "<div>\n",
       "<style scoped>\n",
       "    .dataframe tbody tr th:only-of-type {\n",
       "        vertical-align: middle;\n",
       "    }\n",
       "\n",
       "    .dataframe tbody tr th {\n",
       "        vertical-align: top;\n",
       "    }\n",
       "\n",
       "    .dataframe thead th {\n",
       "        text-align: right;\n",
       "    }\n",
       "</style>\n",
       "<table border=\"1\" class=\"dataframe\">\n",
       "  <thead>\n",
       "    <tr style=\"text-align: right;\">\n",
       "      <th></th>\n",
       "      <th>ID</th>\n",
       "      <th>Sector_Actividad</th>\n",
       "      <th>Tasa</th>\n",
       "      <th>Monto</th>\n",
       "      <th>Plazo_Meses</th>\n",
       "      <th>Antiguedad</th>\n",
       "      <th>Sexo</th>\n",
       "      <th>Tipo_Vivienda</th>\n",
       "      <th>Tipo_cliente</th>\n",
       "      <th>Edad</th>\n",
       "      <th>Personas_a_Cargo</th>\n",
       "      <th>Estado_Civil</th>\n",
       "      <th>Mora</th>\n",
       "    </tr>\n",
       "  </thead>\n",
       "  <tbody>\n",
       "    <tr>\n",
       "      <th>143029</th>\n",
       "      <td>143030</td>\n",
       "      <td>ACTIVIDADES DEPENDIENTES</td>\n",
       "      <td>34.98</td>\n",
       "      <td>3000000</td>\n",
       "      <td>11</td>\n",
       "      <td>2</td>\n",
       "      <td>2.0</td>\n",
       "      <td>Arrendada</td>\n",
       "      <td>Nuevo</td>\n",
       "      <td>28</td>\n",
       "      <td>1</td>\n",
       "      <td>Soltero/a</td>\n",
       "      <td>No</td>\n",
       "    </tr>\n",
       "    <tr>\n",
       "      <th>143030</th>\n",
       "      <td>143031</td>\n",
       "      <td>COMERCIO</td>\n",
       "      <td>52.89</td>\n",
       "      <td>3500000</td>\n",
       "      <td>12</td>\n",
       "      <td>2</td>\n",
       "      <td>1.0</td>\n",
       "      <td>Arrendada</td>\n",
       "      <td>Nuevo</td>\n",
       "      <td>44</td>\n",
       "      <td>2</td>\n",
       "      <td>Unión Libre</td>\n",
       "      <td>No</td>\n",
       "    </tr>\n",
       "    <tr>\n",
       "      <th>143031</th>\n",
       "      <td>143032</td>\n",
       "      <td>COMERCIO</td>\n",
       "      <td>40.00</td>\n",
       "      <td>25770960</td>\n",
       "      <td>30</td>\n",
       "      <td>2</td>\n",
       "      <td>1.0</td>\n",
       "      <td>Familiar</td>\n",
       "      <td>Nuevo</td>\n",
       "      <td>31</td>\n",
       "      <td>0</td>\n",
       "      <td>Soltero/a</td>\n",
       "      <td>No</td>\n",
       "    </tr>\n",
       "    <tr>\n",
       "      <th>143032</th>\n",
       "      <td>143033</td>\n",
       "      <td>ACTIVIDADES DEPENDIENTES</td>\n",
       "      <td>39.80</td>\n",
       "      <td>3273600</td>\n",
       "      <td>16</td>\n",
       "      <td>2</td>\n",
       "      <td>2.0</td>\n",
       "      <td>Arrendada</td>\n",
       "      <td>Nuevo</td>\n",
       "      <td>33</td>\n",
       "      <td>1</td>\n",
       "      <td>Separado/a</td>\n",
       "      <td>No</td>\n",
       "    </tr>\n",
       "    <tr>\n",
       "      <th>143033</th>\n",
       "      <td>143034</td>\n",
       "      <td>SERVICIOS</td>\n",
       "      <td>54.00</td>\n",
       "      <td>6469000</td>\n",
       "      <td>27</td>\n",
       "      <td>2</td>\n",
       "      <td>2.0</td>\n",
       "      <td>Propia con Deuda</td>\n",
       "      <td>Nuevo</td>\n",
       "      <td>32</td>\n",
       "      <td>0</td>\n",
       "      <td>Soltero/a</td>\n",
       "      <td>No</td>\n",
       "    </tr>\n",
       "    <tr>\n",
       "      <th>143034</th>\n",
       "      <td>143035</td>\n",
       "      <td>COMERCIO</td>\n",
       "      <td>52.89</td>\n",
       "      <td>4350000</td>\n",
       "      <td>18</td>\n",
       "      <td>2</td>\n",
       "      <td>1.0</td>\n",
       "      <td>NaN</td>\n",
       "      <td>Nuevo</td>\n",
       "      <td>35</td>\n",
       "      <td>3</td>\n",
       "      <td>Soltero/a</td>\n",
       "      <td>No</td>\n",
       "    </tr>\n",
       "    <tr>\n",
       "      <th>143035</th>\n",
       "      <td>143036</td>\n",
       "      <td>COMERCIO</td>\n",
       "      <td>46.00</td>\n",
       "      <td>15300000</td>\n",
       "      <td>12</td>\n",
       "      <td>2</td>\n",
       "      <td>1.0</td>\n",
       "      <td>NaN</td>\n",
       "      <td>Nuevo</td>\n",
       "      <td>32</td>\n",
       "      <td>1</td>\n",
       "      <td>Casado/a</td>\n",
       "      <td>No</td>\n",
       "    </tr>\n",
       "    <tr>\n",
       "      <th>143036</th>\n",
       "      <td>143037</td>\n",
       "      <td>COMERCIO</td>\n",
       "      <td>52.39</td>\n",
       "      <td>4500000</td>\n",
       "      <td>12</td>\n",
       "      <td>2</td>\n",
       "      <td>1.0</td>\n",
       "      <td>NaN</td>\n",
       "      <td>Nuevo</td>\n",
       "      <td>42</td>\n",
       "      <td>2</td>\n",
       "      <td>Unión Libre</td>\n",
       "      <td>No</td>\n",
       "    </tr>\n",
       "    <tr>\n",
       "      <th>143037</th>\n",
       "      <td>143038</td>\n",
       "      <td>COMERCIO</td>\n",
       "      <td>43.14</td>\n",
       "      <td>8200000</td>\n",
       "      <td>24</td>\n",
       "      <td>2</td>\n",
       "      <td>2.0</td>\n",
       "      <td>Arrendada</td>\n",
       "      <td>Nuevo</td>\n",
       "      <td>67</td>\n",
       "      <td>0</td>\n",
       "      <td>NaN</td>\n",
       "      <td>No</td>\n",
       "    </tr>\n",
       "    <tr>\n",
       "      <th>143038</th>\n",
       "      <td>143039</td>\n",
       "      <td>COMERCIO</td>\n",
       "      <td>52.39</td>\n",
       "      <td>6000000</td>\n",
       "      <td>24</td>\n",
       "      <td>2</td>\n",
       "      <td>2.0</td>\n",
       "      <td>Propia con Deuda</td>\n",
       "      <td>Nuevo</td>\n",
       "      <td>55</td>\n",
       "      <td>0</td>\n",
       "      <td>Casado/a</td>\n",
       "      <td>No</td>\n",
       "    </tr>\n",
       "  </tbody>\n",
       "</table>\n",
       "</div>"
      ],
      "text/plain": [
       "            ID          Sector_Actividad   Tasa     Monto  Plazo_Meses  \\\n",
       "143029  143030  ACTIVIDADES DEPENDIENTES  34.98   3000000           11   \n",
       "143030  143031                  COMERCIO  52.89   3500000           12   \n",
       "143031  143032                  COMERCIO  40.00  25770960           30   \n",
       "143032  143033  ACTIVIDADES DEPENDIENTES  39.80   3273600           16   \n",
       "143033  143034                 SERVICIOS  54.00   6469000           27   \n",
       "143034  143035                  COMERCIO  52.89   4350000           18   \n",
       "143035  143036                  COMERCIO  46.00  15300000           12   \n",
       "143036  143037                  COMERCIO  52.39   4500000           12   \n",
       "143037  143038                  COMERCIO  43.14   8200000           24   \n",
       "143038  143039                  COMERCIO  52.39   6000000           24   \n",
       "\n",
       "        Antiguedad  Sexo     Tipo_Vivienda Tipo_cliente  Edad  \\\n",
       "143029           2   2.0         Arrendada        Nuevo    28   \n",
       "143030           2   1.0         Arrendada        Nuevo    44   \n",
       "143031           2   1.0          Familiar        Nuevo    31   \n",
       "143032           2   2.0         Arrendada        Nuevo    33   \n",
       "143033           2   2.0  Propia con Deuda        Nuevo    32   \n",
       "143034           2   1.0               NaN        Nuevo    35   \n",
       "143035           2   1.0               NaN        Nuevo    32   \n",
       "143036           2   1.0               NaN        Nuevo    42   \n",
       "143037           2   2.0         Arrendada        Nuevo    67   \n",
       "143038           2   2.0  Propia con Deuda        Nuevo    55   \n",
       "\n",
       "        Personas_a_Cargo Estado_Civil Mora  \n",
       "143029                 1    Soltero/a   No  \n",
       "143030                 2  Unión Libre   No  \n",
       "143031                 0    Soltero/a   No  \n",
       "143032                 1   Separado/a   No  \n",
       "143033                 0    Soltero/a   No  \n",
       "143034                 3    Soltero/a   No  \n",
       "143035                 1     Casado/a   No  \n",
       "143036                 2  Unión Libre   No  \n",
       "143037                 0          NaN   No  \n",
       "143038                 0     Casado/a   No  "
      ]
     },
     "execution_count": 4,
     "metadata": {},
     "output_type": "execute_result"
    }
   ],
   "source": [
    "#observamos los 10 ultimos registros del dataset\n",
    "df.tail(10)"
   ]
  },
  {
   "cell_type": "markdown",
   "id": "f84f082e",
   "metadata": {},
   "source": [
    "## 3. Analisis Estructural"
   ]
  },
  {
   "cell_type": "code",
   "execution_count": 5,
   "id": "4f121c8a",
   "metadata": {},
   "outputs": [
    {
     "data": {
      "text/plain": [
       "(143039, 13)"
      ]
     },
     "execution_count": 5,
     "metadata": {},
     "output_type": "execute_result"
    }
   ],
   "source": [
    "#conocemos la cantidad de filas y columnas del dataset\n",
    "df.shape"
   ]
  },
  {
   "cell_type": "code",
   "execution_count": 6,
   "id": "0e80a359",
   "metadata": {
    "scrolled": true
   },
   "outputs": [
    {
     "name": "stdout",
     "output_type": "stream",
     "text": [
      "<class 'pandas.core.frame.DataFrame'>\n",
      "RangeIndex: 143039 entries, 0 to 143038\n",
      "Data columns (total 13 columns):\n",
      " #   Column            Non-Null Count   Dtype  \n",
      "---  ------            --------------   -----  \n",
      " 0   ID                143039 non-null  int64  \n",
      " 1   Sector_Actividad  143037 non-null  object \n",
      " 2   Tasa              143002 non-null  float64\n",
      " 3   Monto             143039 non-null  int64  \n",
      " 4   Plazo_Meses       143039 non-null  int64  \n",
      " 5   Antiguedad        143039 non-null  int64  \n",
      " 6   Sexo              142795 non-null  float64\n",
      " 7   Tipo_Vivienda     141545 non-null  object \n",
      " 8   Tipo_cliente      143039 non-null  object \n",
      " 9   Edad              143039 non-null  int64  \n",
      " 10  Personas_a_Cargo  143039 non-null  int64  \n",
      " 11  Estado_Civil      142724 non-null  object \n",
      " 12  Mora              143039 non-null  object \n",
      "dtypes: float64(2), int64(6), object(5)\n",
      "memory usage: 14.2+ MB\n"
     ]
    }
   ],
   "source": [
    "#conocemos si existen campos nulos y el tipo de variable de cada columna\n",
    "df.info()"
   ]
  },
  {
   "cell_type": "markdown",
   "id": "033257be",
   "metadata": {},
   "source": [
    "Existen 5 columnas con campos nulos: Sector_Actividad, Tasa, Sexo, Tipo_Vivienda y Estado_Civil."
   ]
  },
  {
   "cell_type": "markdown",
   "id": "01bb06a1",
   "metadata": {},
   "source": [
    "#### Tipo de variables del dataset"
   ]
  },
  {
   "cell_type": "markdown",
   "id": "bee1579a",
   "metadata": {},
   "source": [
    "| Columna | Descripción | Tipo |\n",
    "|:--------:|:--------:|:--------:|\n",
    "| ID | Identificador de cliente | Cuantitativa Discreta | \n",
    "| Sector_Actividad | Actividad del cliente | Cualitativa Nominal| \n",
    "| Tasa | Tasa de interés efectiva anual  | Cuantitativa Cotinua | \n",
    "| Monto | Monto solicitado por el cliente  | Cuantitativa Discreta| \n",
    "| Plazo_Meses | Plazo del crédito en número de meses | Cuantitativa Discreta| \n",
    "| Antiguedad | Años de antiguedad del cliente en la entidad | Cuantitativa Discreta| \n",
    "| Sexo | Genero del cliente | Cualitativa Nominal| \n",
    "| Tipo_Vivienda | Tipo de propiedad de vivienda del cliente | Cualitativa Nominal|\n",
    "| Tipo_cliente | Categoria interna del cliente | Cualitativa Ordinal|\n",
    "| Edad | Edad en años del cliente | Cuantitativa Discreta|\n",
    "| Personas_a_Cargo | Personas a cargo económicamente del cliente | Cuantitativa Discreta|\n",
    "| Estado_Civil | Estado civíl del cliente | Cualitativa Ordinal |\n",
    "| Mora | Identificador de Mora del cliente - Variable objetivo, 1:si y 2:no | Cuantitativa Discreta|"
   ]
  },
  {
   "cell_type": "markdown",
   "id": "06961f5b",
   "metadata": {},
   "source": [
    "#### Detección de cantidad de valores nulos por columna"
   ]
  },
  {
   "cell_type": "code",
   "execution_count": 7,
   "id": "37a2c70f",
   "metadata": {},
   "outputs": [
    {
     "data": {
      "text/plain": [
       "ID                     0\n",
       "Sector_Actividad       2\n",
       "Tasa                  37\n",
       "Monto                  0\n",
       "Plazo_Meses            0\n",
       "Antiguedad             0\n",
       "Sexo                 244\n",
       "Tipo_Vivienda       1494\n",
       "Tipo_cliente           0\n",
       "Edad                   0\n",
       "Personas_a_Cargo       0\n",
       "Estado_Civil         315\n",
       "Mora                   0\n",
       "dtype: int64"
      ]
     },
     "execution_count": 7,
     "metadata": {},
     "output_type": "execute_result"
    }
   ],
   "source": [
    "df.isna().sum()"
   ]
  },
  {
   "cell_type": "markdown",
   "id": "5bee739b",
   "metadata": {},
   "source": [
    "## 4. Análisis y noemalizacion de Variables"
   ]
  },
  {
   "cell_type": "markdown",
   "id": "a804bcca",
   "metadata": {},
   "source": [
    "## 4.1. Análisis univariado categórico"
   ]
  },
  {
   "cell_type": "code",
   "execution_count": 8,
   "id": "b33de05f",
   "metadata": {},
   "outputs": [],
   "source": [
    "# Definimos una función para el manejo de tablas de frecuencia\n",
    "def tabla_freq(columna):\n",
    "    x=pd.crosstab(index=columna,columns=\"count\").reset_index()\n",
    "    x=x.rename(columns={'count':'Frec. Abs.'})\n",
    "    y=pd.crosstab(index=columna,columns=\"count\", normalize='columns').reset_index()\n",
    "    y=y.rename(columns={'count':'Frec. Rel.'})\n",
    "    tabla=x.merge(y,how='left')\n",
    "    tabla.rename_axis(None, axis=1)\n",
    "    return tabla"
   ]
  },
  {
   "cell_type": "markdown",
   "id": "e8c89afb",
   "metadata": {},
   "source": [
    "### Sector de actividad del cliente:"
   ]
  },
  {
   "cell_type": "code",
   "execution_count": 9,
   "id": "362f38df",
   "metadata": {},
   "outputs": [
    {
     "data": {
      "text/plain": [
       "Sector_Actividad\n",
       "AGRICULTURA                   40570\n",
       "SERVICIOS                     31837\n",
       "COMERCIO                      28004\n",
       "PECUARIO                      20117\n",
       "ACTIVIDADES DEPENDIENTES      10613\n",
       "INDUSTRIA                      4209\n",
       "AGROINDUSTRIA                  2662\n",
       "CONFECCIONES                   2215\n",
       "ARTESANÍAS                     1074\n",
       "MADERA                          924\n",
       "PESCA                           317\n",
       "CUEROS                          305\n",
       "ALFARERÍA                       108\n",
       "METALMECÁNICA                    62\n",
       "ACTIVIDADES INDEPENDIENTES       20\n",
       "NaN                               2\n",
       "Name: count, dtype: int64"
      ]
     },
     "execution_count": 9,
     "metadata": {},
     "output_type": "execute_result"
    }
   ],
   "source": [
    "df['Sector_Actividad'].value_counts(dropna=False)"
   ]
  },
  {
   "cell_type": "code",
   "execution_count": 10,
   "id": "1f7d165b",
   "metadata": {},
   "outputs": [],
   "source": [
    "# Reemplazamos los datos nulos por la actividad con mayor frecuencia, es decir, Agricultura"
   ]
  },
  {
   "cell_type": "code",
   "execution_count": 11,
   "id": "a3f6e1c7",
   "metadata": {},
   "outputs": [],
   "source": [
    "df['Sector_Actividad'].replace(np.nan, \"AGRICULTURA\", inplace=True)"
   ]
  },
  {
   "cell_type": "code",
   "execution_count": 12,
   "id": "f4cb5123",
   "metadata": {},
   "outputs": [
    {
     "data": {
      "text/html": [
       "<div>\n",
       "<style scoped>\n",
       "    .dataframe tbody tr th:only-of-type {\n",
       "        vertical-align: middle;\n",
       "    }\n",
       "\n",
       "    .dataframe tbody tr th {\n",
       "        vertical-align: top;\n",
       "    }\n",
       "\n",
       "    .dataframe thead th {\n",
       "        text-align: right;\n",
       "    }\n",
       "</style>\n",
       "<table border=\"1\" class=\"dataframe\">\n",
       "  <thead>\n",
       "    <tr style=\"text-align: right;\">\n",
       "      <th>col_0</th>\n",
       "      <th>Sector_Actividad</th>\n",
       "      <th>Frec. Abs.</th>\n",
       "      <th>Frec. Rel.</th>\n",
       "    </tr>\n",
       "  </thead>\n",
       "  <tbody>\n",
       "    <tr>\n",
       "      <th>0</th>\n",
       "      <td>ACTIVIDADES DEPENDIENTES</td>\n",
       "      <td>10613</td>\n",
       "      <td>0.074197</td>\n",
       "    </tr>\n",
       "    <tr>\n",
       "      <th>1</th>\n",
       "      <td>ACTIVIDADES INDEPENDIENTES</td>\n",
       "      <td>20</td>\n",
       "      <td>0.000140</td>\n",
       "    </tr>\n",
       "    <tr>\n",
       "      <th>2</th>\n",
       "      <td>AGRICULTURA</td>\n",
       "      <td>40572</td>\n",
       "      <td>0.283643</td>\n",
       "    </tr>\n",
       "    <tr>\n",
       "      <th>3</th>\n",
       "      <td>AGROINDUSTRIA</td>\n",
       "      <td>2662</td>\n",
       "      <td>0.018610</td>\n",
       "    </tr>\n",
       "    <tr>\n",
       "      <th>4</th>\n",
       "      <td>ALFARERÍA</td>\n",
       "      <td>108</td>\n",
       "      <td>0.000755</td>\n",
       "    </tr>\n",
       "    <tr>\n",
       "      <th>5</th>\n",
       "      <td>ARTESANÍAS</td>\n",
       "      <td>1074</td>\n",
       "      <td>0.007508</td>\n",
       "    </tr>\n",
       "    <tr>\n",
       "      <th>6</th>\n",
       "      <td>COMERCIO</td>\n",
       "      <td>28004</td>\n",
       "      <td>0.195779</td>\n",
       "    </tr>\n",
       "    <tr>\n",
       "      <th>7</th>\n",
       "      <td>CONFECCIONES</td>\n",
       "      <td>2215</td>\n",
       "      <td>0.015485</td>\n",
       "    </tr>\n",
       "    <tr>\n",
       "      <th>8</th>\n",
       "      <td>CUEROS</td>\n",
       "      <td>305</td>\n",
       "      <td>0.002132</td>\n",
       "    </tr>\n",
       "    <tr>\n",
       "      <th>9</th>\n",
       "      <td>INDUSTRIA</td>\n",
       "      <td>4209</td>\n",
       "      <td>0.029426</td>\n",
       "    </tr>\n",
       "    <tr>\n",
       "      <th>10</th>\n",
       "      <td>MADERA</td>\n",
       "      <td>924</td>\n",
       "      <td>0.006460</td>\n",
       "    </tr>\n",
       "    <tr>\n",
       "      <th>11</th>\n",
       "      <td>METALMECÁNICA</td>\n",
       "      <td>62</td>\n",
       "      <td>0.000433</td>\n",
       "    </tr>\n",
       "    <tr>\n",
       "      <th>12</th>\n",
       "      <td>PECUARIO</td>\n",
       "      <td>20117</td>\n",
       "      <td>0.140640</td>\n",
       "    </tr>\n",
       "    <tr>\n",
       "      <th>13</th>\n",
       "      <td>PESCA</td>\n",
       "      <td>317</td>\n",
       "      <td>0.002216</td>\n",
       "    </tr>\n",
       "    <tr>\n",
       "      <th>14</th>\n",
       "      <td>SERVICIOS</td>\n",
       "      <td>31837</td>\n",
       "      <td>0.222576</td>\n",
       "    </tr>\n",
       "  </tbody>\n",
       "</table>\n",
       "</div>"
      ],
      "text/plain": [
       "col_0            Sector_Actividad  Frec. Abs.  Frec. Rel.\n",
       "0        ACTIVIDADES DEPENDIENTES       10613    0.074197\n",
       "1      ACTIVIDADES INDEPENDIENTES          20    0.000140\n",
       "2                     AGRICULTURA       40572    0.283643\n",
       "3                   AGROINDUSTRIA        2662    0.018610\n",
       "4                       ALFARERÍA         108    0.000755\n",
       "5                      ARTESANÍAS        1074    0.007508\n",
       "6                        COMERCIO       28004    0.195779\n",
       "7                    CONFECCIONES        2215    0.015485\n",
       "8                          CUEROS         305    0.002132\n",
       "9                       INDUSTRIA        4209    0.029426\n",
       "10                         MADERA         924    0.006460\n",
       "11                  METALMECÁNICA          62    0.000433\n",
       "12                       PECUARIO       20117    0.140640\n",
       "13                          PESCA         317    0.002216\n",
       "14                      SERVICIOS       31837    0.222576"
      ]
     },
     "execution_count": 12,
     "metadata": {},
     "output_type": "execute_result"
    }
   ],
   "source": [
    "tabla_actividad=tabla_freq(df['Sector_Actividad'])\n",
    "tabla_actividad"
   ]
  },
  {
   "cell_type": "code",
   "execution_count": 13,
   "id": "20906208",
   "metadata": {},
   "outputs": [
    {
     "data": {
      "image/png": "[encoded data removed]",
      "text/plain": [
       "<Figure size 1000x500 with 1 Axes>"
      ]
     },
     "metadata": {},
     "output_type": "display_data"
    }
   ],
   "source": [
    "plt.figure(figsize=(10,5)) \n",
    "frec_actividad=sns.barplot(x=tabla_actividad['Sector_Actividad'],y=tabla_actividad[\"Frec. Rel.\"]*100, palette = \"viridis\")\n",
    "frec_actividad.bar_label(frec_actividad.containers[0], label_type='edge',fmt='%.2f%%') \n",
    "frec_actividad.set_xticklabels(frec_actividad.get_xticklabels(),rotation=60)\n",
    "frec_actividad.set_xlabel('Sector de actividad')\n",
    "frec_actividad.set(ylim=(0, 30))\n",
    "plt.show()"
   ]
  },
  {
   "cell_type": "markdown",
   "id": "29a49338",
   "metadata": {},
   "source": [
    "Las tres principales actividades de los clientes son la agricultura, servicios y comercio, concentrando el 70% de los clientes."
   ]
  },
  {
   "cell_type": "markdown",
   "id": "38dac239",
   "metadata": {},
   "source": [
    "### Género:"
   ]
  },
  {
   "cell_type": "code",
   "execution_count": 14,
   "id": "a9ddd4a8",
   "metadata": {
    "scrolled": true
   },
   "outputs": [
    {
     "data": {
      "text/plain": [
       "Sexo\n",
       "2.0    71865\n",
       "1.0    70909\n",
       "NaN      244\n",
       "3.0       12\n",
       "4.0        9\n",
       "Name: count, dtype: int64"
      ]
     },
     "execution_count": 14,
     "metadata": {},
     "output_type": "execute_result"
    }
   ],
   "source": [
    "df['Sexo'].value_counts(dropna=False)"
   ]
  },
  {
   "cell_type": "markdown",
   "id": "d184b25d",
   "metadata": {},
   "source": [
    "De acuerdo con el diccionario de la empresa, en el sistema se registra al género femenino como 1 y masculino como 2. Como se puede observar, existen valores nulos y clasificaciones atípicas 3 y 4, por tanto, para el tratamiento de estos valores se decide reemplazar por el valor de mayor frecuencia, en este caso 2, es decir, género masculino."
   ]
  },
  {
   "cell_type": "code",
   "execution_count": 15,
   "id": "f4a5dc3d",
   "metadata": {},
   "outputs": [
    {
     "data": {
      "text/html": [
       "<div>\n",
       "<style scoped>\n",
       "    .dataframe tbody tr th:only-of-type {\n",
       "        vertical-align: middle;\n",
       "    }\n",
       "\n",
       "    .dataframe tbody tr th {\n",
       "        vertical-align: top;\n",
       "    }\n",
       "\n",
       "    .dataframe thead th {\n",
       "        text-align: right;\n",
       "    }\n",
       "</style>\n",
       "<table border=\"1\" class=\"dataframe\">\n",
       "  <thead>\n",
       "    <tr style=\"text-align: right;\">\n",
       "      <th>col_0</th>\n",
       "      <th>Sexo</th>\n",
       "      <th>Frec. Abs.</th>\n",
       "      <th>Frec. Rel.</th>\n",
       "    </tr>\n",
       "  </thead>\n",
       "  <tbody>\n",
       "    <tr>\n",
       "      <th>0</th>\n",
       "      <td>Hombre</td>\n",
       "      <td>72130</td>\n",
       "      <td>0.504268</td>\n",
       "    </tr>\n",
       "    <tr>\n",
       "      <th>1</th>\n",
       "      <td>Mujer</td>\n",
       "      <td>70909</td>\n",
       "      <td>0.495732</td>\n",
       "    </tr>\n",
       "  </tbody>\n",
       "</table>\n",
       "</div>"
      ],
      "text/plain": [
       "col_0    Sexo  Frec. Abs.  Frec. Rel.\n",
       "0      Hombre       72130    0.504268\n",
       "1       Mujer       70909    0.495732"
      ]
     },
     "execution_count": 15,
     "metadata": {},
     "output_type": "execute_result"
    }
   ],
   "source": [
    "# Reemplazar las categorías atípicas 3 y 4\n",
    "df[\"Sexo\"]=df[\"Sexo\"].replace({1:\"Mujer\",2:\"Hombre\",3:\"Hombre\",4:\"Hombre\",\"nan\":\"Hombre\"})\n",
    "df[\"Sexo\"].replace(np.nan, \"Hombre\", inplace=True)\n",
    "tabla_genero=tabla_freq(df['Sexo'])\n",
    "tabla_genero"
   ]
  },
  {
   "cell_type": "code",
   "execution_count": 16,
   "id": "b9522f5d",
   "metadata": {},
   "outputs": [
    {
     "data": {
      "image/png": "[encoded data removed]",
      "text/plain": [
       "<Figure size 1000x500 with 1 Axes>"
      ]
     },
     "metadata": {},
     "output_type": "display_data"
    }
   ],
   "source": [
    "plt.figure(figsize=(10,5)) \n",
    "frec_genero=sns.barplot(x=tabla_genero['Sexo'],y=tabla_genero[\"Frec. Rel.\"]*100, palette = \"viridis\")\n",
    "frec_genero.bar_label(frec_genero.containers[0], label_type='edge',fmt='%.2f%%') \n",
    "frec_genero.set(ylim=(0, 60))\n",
    "frec_genero.set_xlabel('Genero')\n",
    "plt.show() "
   ]
  },
  {
   "cell_type": "markdown",
   "id": "e5abd63e",
   "metadata": {},
   "source": [
    "De la población analizada, se puede observar que la proporción en género es muy similar, es decir, hay tanta cantidad de hombres como de mujeres. Como se evidencia de los registros el 50.43% son hombres y 49.57% mujeres."
   ]
  },
  {
   "cell_type": "markdown",
   "id": "0e6cd36a",
   "metadata": {},
   "source": [
    "### Tipo de Vivienda"
   ]
  },
  {
   "cell_type": "code",
   "execution_count": 17,
   "id": "c26f12d8",
   "metadata": {},
   "outputs": [
    {
     "data": {
      "text/plain": [
       "Tipo_Vivienda\n",
       "Propia sin Deuda    69242\n",
       "Familiar            39868\n",
       "Arrendada           26522\n",
       "Propia con Deuda     5873\n",
       "NaN                  1494\n",
       "Anticresis             40\n",
       "Name: count, dtype: int64"
      ]
     },
     "execution_count": 17,
     "metadata": {},
     "output_type": "execute_result"
    }
   ],
   "source": [
    "df['Tipo_Vivienda'].value_counts(dropna=False)"
   ]
  },
  {
   "cell_type": "code",
   "execution_count": 18,
   "id": "06abf877",
   "metadata": {},
   "outputs": [],
   "source": [
    "# Reemplazamos los datos nulos por la el tipo de vivienda con mayor frecuencia, es decir, Propia sin deuda"
   ]
  },
  {
   "cell_type": "code",
   "execution_count": 19,
   "id": "35effe3a",
   "metadata": {},
   "outputs": [],
   "source": [
    "df['Tipo_Vivienda'].replace(np.nan, \"Propia sin Deuda\", inplace=True)"
   ]
  },
  {
   "cell_type": "code",
   "execution_count": 20,
   "id": "a0cb9a77",
   "metadata": {},
   "outputs": [
    {
     "data": {
      "text/html": [
       "<div>\n",
       "<style scoped>\n",
       "    .dataframe tbody tr th:only-of-type {\n",
       "        vertical-align: middle;\n",
       "    }\n",
       "\n",
       "    .dataframe tbody tr th {\n",
       "        vertical-align: top;\n",
       "    }\n",
       "\n",
       "    .dataframe thead th {\n",
       "        text-align: right;\n",
       "    }\n",
       "</style>\n",
       "<table border=\"1\" class=\"dataframe\">\n",
       "  <thead>\n",
       "    <tr style=\"text-align: right;\">\n",
       "      <th>col_0</th>\n",
       "      <th>Tipo_Vivienda</th>\n",
       "      <th>Frec. Abs.</th>\n",
       "      <th>Frec. Rel.</th>\n",
       "    </tr>\n",
       "  </thead>\n",
       "  <tbody>\n",
       "    <tr>\n",
       "      <th>0</th>\n",
       "      <td>Anticresis</td>\n",
       "      <td>40</td>\n",
       "      <td>0.000280</td>\n",
       "    </tr>\n",
       "    <tr>\n",
       "      <th>1</th>\n",
       "      <td>Arrendada</td>\n",
       "      <td>26522</td>\n",
       "      <td>0.185418</td>\n",
       "    </tr>\n",
       "    <tr>\n",
       "      <th>2</th>\n",
       "      <td>Familiar</td>\n",
       "      <td>39868</td>\n",
       "      <td>0.278721</td>\n",
       "    </tr>\n",
       "    <tr>\n",
       "      <th>3</th>\n",
       "      <td>Propia con Deuda</td>\n",
       "      <td>5873</td>\n",
       "      <td>0.041059</td>\n",
       "    </tr>\n",
       "    <tr>\n",
       "      <th>4</th>\n",
       "      <td>Propia sin Deuda</td>\n",
       "      <td>70736</td>\n",
       "      <td>0.494522</td>\n",
       "    </tr>\n",
       "  </tbody>\n",
       "</table>\n",
       "</div>"
      ],
      "text/plain": [
       "col_0     Tipo_Vivienda  Frec. Abs.  Frec. Rel.\n",
       "0            Anticresis          40    0.000280\n",
       "1             Arrendada       26522    0.185418\n",
       "2              Familiar       39868    0.278721\n",
       "3      Propia con Deuda        5873    0.041059\n",
       "4      Propia sin Deuda       70736    0.494522"
      ]
     },
     "execution_count": 20,
     "metadata": {},
     "output_type": "execute_result"
    }
   ],
   "source": [
    "tabla_vivienda=tabla_freq(df['Tipo_Vivienda'])\n",
    "tabla_vivienda"
   ]
  },
  {
   "cell_type": "code",
   "execution_count": 21,
   "id": "ed741507",
   "metadata": {},
   "outputs": [
    {
     "data": {
      "image/png": "[encoded data removed]",
      "text/plain": [
       "<Figure size 1000x500 with 1 Axes>"
      ]
     },
     "metadata": {},
     "output_type": "display_data"
    }
   ],
   "source": [
    "plt.figure(figsize=(10,5)) \n",
    "frec_vivienda=sns.barplot(x=tabla_vivienda['Tipo_Vivienda'],y=tabla_vivienda[\"Frec. Rel.\"]*100, palette = \"viridis\")\n",
    "frec_vivienda.bar_label(frec_vivienda.containers[0], label_type='edge',fmt='%.2f%%') \n",
    "frec_vivienda.set_xticklabels(frec_vivienda.get_xticklabels(),rotation=60)\n",
    "frec_vivienda.set_xlabel('Tipo de vivienda')\n",
    "frec_vivienda.set(ylim=(0, 60))\n",
    "plt.show()"
   ]
  },
  {
   "cell_type": "markdown",
   "id": "08609dbb-07bb-4385-91ea-f8cb40188313",
   "metadata": {},
   "source": [
    "De la población analizada se puede inferir que el 49.45% de lo clientes son dueños de su vivienda, la cual esta libre de deuda."
   ]
  },
  {
   "cell_type": "markdown",
   "id": "10e3ae38",
   "metadata": {},
   "source": [
    "### Tipo de Cliente"
   ]
  },
  {
   "cell_type": "code",
   "execution_count": 22,
   "id": "51669fbe",
   "metadata": {},
   "outputs": [
    {
     "data": {
      "text/plain": [
       "Tipo_cliente\n",
       "Nuevo           119547\n",
       "Preferencial     23492\n",
       "Name: count, dtype: int64"
      ]
     },
     "execution_count": 22,
     "metadata": {},
     "output_type": "execute_result"
    }
   ],
   "source": [
    "df['Tipo_cliente'].value_counts(dropna=False)"
   ]
  },
  {
   "cell_type": "code",
   "execution_count": 23,
   "id": "99259d69",
   "metadata": {},
   "outputs": [
    {
     "data": {
      "text/html": [
       "<div>\n",
       "<style scoped>\n",
       "    .dataframe tbody tr th:only-of-type {\n",
       "        vertical-align: middle;\n",
       "    }\n",
       "\n",
       "    .dataframe tbody tr th {\n",
       "        vertical-align: top;\n",
       "    }\n",
       "\n",
       "    .dataframe thead th {\n",
       "        text-align: right;\n",
       "    }\n",
       "</style>\n",
       "<table border=\"1\" class=\"dataframe\">\n",
       "  <thead>\n",
       "    <tr style=\"text-align: right;\">\n",
       "      <th>col_0</th>\n",
       "      <th>Tipo_cliente</th>\n",
       "      <th>Frec. Abs.</th>\n",
       "      <th>Frec. Rel.</th>\n",
       "    </tr>\n",
       "  </thead>\n",
       "  <tbody>\n",
       "    <tr>\n",
       "      <th>0</th>\n",
       "      <td>Nuevo</td>\n",
       "      <td>119547</td>\n",
       "      <td>0.835765</td>\n",
       "    </tr>\n",
       "    <tr>\n",
       "      <th>1</th>\n",
       "      <td>Preferencial</td>\n",
       "      <td>23492</td>\n",
       "      <td>0.164235</td>\n",
       "    </tr>\n",
       "  </tbody>\n",
       "</table>\n",
       "</div>"
      ],
      "text/plain": [
       "col_0  Tipo_cliente  Frec. Abs.  Frec. Rel.\n",
       "0             Nuevo      119547    0.835765\n",
       "1      Preferencial       23492    0.164235"
      ]
     },
     "execution_count": 23,
     "metadata": {},
     "output_type": "execute_result"
    }
   ],
   "source": [
    "tabla_cliente=tabla_freq(df['Tipo_cliente'])\n",
    "tabla_cliente"
   ]
  },
  {
   "cell_type": "code",
   "execution_count": 24,
   "id": "9bbda7fb",
   "metadata": {},
   "outputs": [
    {
     "data": {
      "image/png": "[encoded data removed]",
      "text/plain": [
       "<Figure size 1000x500 with 1 Axes>"
      ]
     },
     "metadata": {},
     "output_type": "display_data"
    }
   ],
   "source": [
    "plt.figure(figsize=(10,5)) \n",
    "frec_cliente=sns.barplot(x=tabla_cliente['Tipo_cliente'],y=tabla_cliente[\"Frec. Rel.\"]*100, palette = \"viridis\")\n",
    "frec_cliente.bar_label(frec_cliente.containers[0], label_type='edge',fmt='%.2f%%') \n",
    "frec_cliente.set_xticklabels(frec_cliente.get_xticklabels(),rotation=0)\n",
    "frec_cliente.set_xlabel('Tipo de cliente')\n",
    "frec_cliente.set(ylim=(0, 90))\n",
    "plt.show()"
   ]
  },
  {
   "cell_type": "markdown",
   "id": "7bb52923",
   "metadata": {},
   "source": [
    "Aproximadamente 8 de cada 10 clientes tiene categoría de nuevos, mientras que el 16,42% son preferenciales. Cabe recordar que esta categoría se otorga a los clientes que han tenido una trayectoria mayor a 36 meses y con un impecable comportamiento de pago."
   ]
  },
  {
   "cell_type": "markdown",
   "id": "d2976c5c",
   "metadata": {},
   "source": [
    "### Estado civil del cliente"
   ]
  },
  {
   "cell_type": "code",
   "execution_count": 25,
   "id": "dccc56c2",
   "metadata": {},
   "outputs": [
    {
     "data": {
      "text/plain": [
       "Estado_Civil\n",
       "Unión Libre     48014\n",
       "Soltero/a       45436\n",
       "Casado/a        34143\n",
       "Separado/a      10821\n",
       "Viudo/a          4254\n",
       "NaN               315\n",
       "Divorciado/a       56\n",
       "Name: count, dtype: int64"
      ]
     },
     "execution_count": 25,
     "metadata": {},
     "output_type": "execute_result"
    }
   ],
   "source": [
    "df['Estado_Civil'].value_counts(dropna=False)"
   ]
  },
  {
   "cell_type": "code",
   "execution_count": 26,
   "id": "475c3190",
   "metadata": {},
   "outputs": [],
   "source": [
    "# Reemplazamos los datos nulos por la el tipo estado civil con mayor frecuencia, es decir, Unión Libre\n",
    "df['Estado_Civil'].replace(np.nan, \"Unión Libre\", inplace=True)"
   ]
  },
  {
   "cell_type": "code",
   "execution_count": 27,
   "id": "6745cd1a",
   "metadata": {},
   "outputs": [
    {
     "data": {
      "text/html": [
       "<div>\n",
       "<style scoped>\n",
       "    .dataframe tbody tr th:only-of-type {\n",
       "        vertical-align: middle;\n",
       "    }\n",
       "\n",
       "    .dataframe tbody tr th {\n",
       "        vertical-align: top;\n",
       "    }\n",
       "\n",
       "    .dataframe thead th {\n",
       "        text-align: right;\n",
       "    }\n",
       "</style>\n",
       "<table border=\"1\" class=\"dataframe\">\n",
       "  <thead>\n",
       "    <tr style=\"text-align: right;\">\n",
       "      <th>col_0</th>\n",
       "      <th>Estado_Civil</th>\n",
       "      <th>Frec. Abs.</th>\n",
       "      <th>Frec. Rel.</th>\n",
       "    </tr>\n",
       "  </thead>\n",
       "  <tbody>\n",
       "    <tr>\n",
       "      <th>0</th>\n",
       "      <td>Casado/a</td>\n",
       "      <td>34143</td>\n",
       "      <td>0.238697</td>\n",
       "    </tr>\n",
       "    <tr>\n",
       "      <th>1</th>\n",
       "      <td>Divorciado/a</td>\n",
       "      <td>56</td>\n",
       "      <td>0.000392</td>\n",
       "    </tr>\n",
       "    <tr>\n",
       "      <th>2</th>\n",
       "      <td>Separado/a</td>\n",
       "      <td>10821</td>\n",
       "      <td>0.075651</td>\n",
       "    </tr>\n",
       "    <tr>\n",
       "      <th>3</th>\n",
       "      <td>Soltero/a</td>\n",
       "      <td>45436</td>\n",
       "      <td>0.317648</td>\n",
       "    </tr>\n",
       "    <tr>\n",
       "      <th>4</th>\n",
       "      <td>Unión Libre</td>\n",
       "      <td>48329</td>\n",
       "      <td>0.337873</td>\n",
       "    </tr>\n",
       "    <tr>\n",
       "      <th>5</th>\n",
       "      <td>Viudo/a</td>\n",
       "      <td>4254</td>\n",
       "      <td>0.029740</td>\n",
       "    </tr>\n",
       "  </tbody>\n",
       "</table>\n",
       "</div>"
      ],
      "text/plain": [
       "col_0  Estado_Civil  Frec. Abs.  Frec. Rel.\n",
       "0          Casado/a       34143    0.238697\n",
       "1      Divorciado/a          56    0.000392\n",
       "2        Separado/a       10821    0.075651\n",
       "3         Soltero/a       45436    0.317648\n",
       "4       Unión Libre       48329    0.337873\n",
       "5           Viudo/a        4254    0.029740"
      ]
     },
     "execution_count": 27,
     "metadata": {},
     "output_type": "execute_result"
    }
   ],
   "source": [
    "tabla_civil=tabla_freq(df['Estado_Civil'])\n",
    "tabla_civil"
   ]
  },
  {
   "cell_type": "code",
   "execution_count": 28,
   "id": "1478af01",
   "metadata": {},
   "outputs": [
    {
     "data": {
      "image/png": "[encoded data removed]",
      "text/plain": [
       "<Figure size 1000x500 with 1 Axes>"
      ]
     },
     "metadata": {},
     "output_type": "display_data"
    }
   ],
   "source": [
    "plt.figure(figsize=(10,5)) \n",
    "frec_civil=sns.barplot(x=tabla_civil['Estado_Civil'],y=tabla_civil[\"Frec. Rel.\"]*100, palette = \"viridis\")\n",
    "frec_civil.bar_label(frec_civil.containers[0], label_type='edge',fmt='%.2f%%') \n",
    "frec_civil.set_xticklabels(frec_civil.get_xticklabels(),rotation=0)\n",
    "frec_civil.set_xlabel('Tipo de cliente')\n",
    "frec_civil.set(ylim=(0, 40))\n",
    "plt.show()"
   ]
  },
  {
   "cell_type": "markdown",
   "id": "5e123574",
   "metadata": {},
   "source": [
    "Con base al gráfico anterior, se puede concluir que la mayor cantidad de clientes son personas en unión libre y solteras. En este segmento concentra alrededor del 65.55% de clientes totales de la entidad."
   ]
  },
  {
   "cell_type": "markdown",
   "id": "f0da0d51",
   "metadata": {},
   "source": [
    "## 4.2. Análisis univariado númerico"
   ]
  },
  {
   "cell_type": "code",
   "execution_count": 29,
   "id": "9233ccb6",
   "metadata": {},
   "outputs": [],
   "source": [
    "# Definimos una función para el manejo de tablas descriptivas\n",
    "\n",
    "def tabla_descriptivas(columnas):\n",
    "    tabla_descriptivas=pd.DataFrame(columnas.describe())\n",
    "    tabla_descriptivas.loc['coef. variation']=columnas.std()/columnas.mean()\n",
    "    return tabla_descriptivas"
   ]
  },
  {
   "cell_type": "markdown",
   "id": "24390356",
   "metadata": {},
   "source": [
    "### Tasa de interes Efectiva Anual:"
   ]
  },
  {
   "cell_type": "code",
   "execution_count": 30,
   "id": "bc807c34",
   "metadata": {},
   "outputs": [
    {
     "data": {
      "text/plain": [
       "37"
      ]
     },
     "execution_count": 30,
     "metadata": {},
     "output_type": "execute_result"
    }
   ],
   "source": [
    "# Contamos los datos nulos\n",
    "df['Tasa'].isna().sum()"
   ]
  },
  {
   "cell_type": "code",
   "execution_count": 31,
   "id": "69705acf",
   "metadata": {},
   "outputs": [],
   "source": [
    "# Reemplazmos los valores nulos por el promedio de tasa\n",
    "avg_tasa = df[\"Tasa\"].astype(\"float\").mean()\n",
    "df[\"Tasa\"].replace(np.nan, avg_tasa, inplace=True)"
   ]
  },
  {
   "cell_type": "code",
   "execution_count": 32,
   "id": "998aac88",
   "metadata": {},
   "outputs": [
    {
     "name": "stdout",
     "output_type": "stream",
     "text": [
      "<class 'pandas.core.series.Series'>\n",
      "RangeIndex: 143039 entries, 0 to 143038\n",
      "Series name: Tasa\n",
      "Non-Null Count   Dtype  \n",
      "--------------   -----  \n",
      "143039 non-null  float64\n",
      "dtypes: float64(1)\n",
      "memory usage: 1.1 MB\n"
     ]
    }
   ],
   "source": [
    "df['Tasa'].info()"
   ]
  },
  {
   "cell_type": "code",
   "execution_count": 33,
   "id": "14587486",
   "metadata": {},
   "outputs": [
    {
     "data": {
      "text/html": [
       "<div>\n",
       "<style scoped>\n",
       "    .dataframe tbody tr th:only-of-type {\n",
       "        vertical-align: middle;\n",
       "    }\n",
       "\n",
       "    .dataframe tbody tr th {\n",
       "        vertical-align: top;\n",
       "    }\n",
       "\n",
       "    .dataframe thead th {\n",
       "        text-align: right;\n",
       "    }\n",
       "</style>\n",
       "<table border=\"1\" class=\"dataframe\">\n",
       "  <thead>\n",
       "    <tr style=\"text-align: right;\">\n",
       "      <th></th>\n",
       "      <th>Tasa</th>\n",
       "    </tr>\n",
       "  </thead>\n",
       "  <tbody>\n",
       "    <tr>\n",
       "      <th>count</th>\n",
       "      <td>143039.000000</td>\n",
       "    </tr>\n",
       "    <tr>\n",
       "      <th>mean</th>\n",
       "      <td>50.450773</td>\n",
       "    </tr>\n",
       "    <tr>\n",
       "      <th>std</th>\n",
       "      <td>6.712112</td>\n",
       "    </tr>\n",
       "    <tr>\n",
       "      <th>min</th>\n",
       "      <td>10.680000</td>\n",
       "    </tr>\n",
       "    <tr>\n",
       "      <th>25%</th>\n",
       "      <td>48.500000</td>\n",
       "    </tr>\n",
       "    <tr>\n",
       "      <th>50%</th>\n",
       "      <td>52.390000</td>\n",
       "    </tr>\n",
       "    <tr>\n",
       "      <th>75%</th>\n",
       "      <td>52.890000</td>\n",
       "    </tr>\n",
       "    <tr>\n",
       "      <th>max</th>\n",
       "      <td>70.000000</td>\n",
       "    </tr>\n",
       "    <tr>\n",
       "      <th>coef. variation</th>\n",
       "      <td>0.133043</td>\n",
       "    </tr>\n",
       "  </tbody>\n",
       "</table>\n",
       "</div>"
      ],
      "text/plain": [
       "                          Tasa\n",
       "count            143039.000000\n",
       "mean                 50.450773\n",
       "std                   6.712112\n",
       "min                  10.680000\n",
       "25%                  48.500000\n",
       "50%                  52.390000\n",
       "75%                  52.890000\n",
       "max                  70.000000\n",
       "coef. variation       0.133043"
      ]
     },
     "execution_count": 33,
     "metadata": {},
     "output_type": "execute_result"
    }
   ],
   "source": [
    "# Describimos los datos\n",
    "tabla_tasa=tabla_descriptivas(df['Tasa'])\n",
    "tabla_tasa"
   ]
  },
  {
   "cell_type": "code",
   "execution_count": 34,
   "id": "4dcfdeb0",
   "metadata": {},
   "outputs": [
    {
     "data": {
      "image/png": "[encoded data removed]",
      "text/plain": [
       "<Figure size 1000x500 with 1 Axes>"
      ]
     },
     "metadata": {},
     "output_type": "display_data"
    }
   ],
   "source": [
    "plt.figure(figsize=(10,5)) \n",
    "boxplot_tasa=sns.boxplot(x=df['Tasa'],palette = \"Set2\", showmeans=True) ## crea el boxplot\n",
    "boxplot_tasa.set_xlabel('Tasa') ## cambia el título del eje x\n",
    "boxplot_tasa.set_xlim(0, 79)                     ## cambia los límites del eje x\n",
    "boxplot_tasa.set_xticks(range(0,80,5))               ## cambia los valores del eje x\n",
    "boxplot_tasa.set_title('Tasa de interes efectiva anual')\n",
    "plt.show() "
   ]
  },
  {
   "cell_type": "markdown",
   "id": "faf64516",
   "metadata": {},
   "source": [
    "De acuerdo con el conocimiento del negocio, se puede evidenciar outliers, dado que las tasas no pueden ser inferiores a 33.30% y máximo 68.81%, esto dado unas políticas en tasa de usura de la Superintendencia Financiera de Colombia, por tanto, se llevan estos outliers al valor promedio de tasa."
   ]
  },
  {
   "cell_type": "code",
   "execution_count": 35,
   "id": "541f81fd",
   "metadata": {},
   "outputs": [],
   "source": [
    "#Reemplazamos "
   ]
  },
  {
   "cell_type": "code",
   "execution_count": 36,
   "id": "d04ef736",
   "metadata": {},
   "outputs": [],
   "source": [
    "df.loc[df['Tasa'] < 33.30, 'Tasa'] = avg_tasa\n",
    "df.loc[df['Tasa'] > 68.81, 'Tasa'] = avg_tasa"
   ]
  },
  {
   "cell_type": "code",
   "execution_count": 37,
   "id": "cf308cd4",
   "metadata": {},
   "outputs": [
    {
     "data": {
      "text/html": [
       "<div>\n",
       "<style scoped>\n",
       "    .dataframe tbody tr th:only-of-type {\n",
       "        vertical-align: middle;\n",
       "    }\n",
       "\n",
       "    .dataframe tbody tr th {\n",
       "        vertical-align: top;\n",
       "    }\n",
       "\n",
       "    .dataframe thead th {\n",
       "        text-align: right;\n",
       "    }\n",
       "</style>\n",
       "<table border=\"1\" class=\"dataframe\">\n",
       "  <thead>\n",
       "    <tr style=\"text-align: right;\">\n",
       "      <th></th>\n",
       "      <th>Tasa</th>\n",
       "    </tr>\n",
       "  </thead>\n",
       "  <tbody>\n",
       "    <tr>\n",
       "      <th>count</th>\n",
       "      <td>143039.000000</td>\n",
       "    </tr>\n",
       "    <tr>\n",
       "      <th>mean</th>\n",
       "      <td>51.090954</td>\n",
       "    </tr>\n",
       "    <tr>\n",
       "      <th>std</th>\n",
       "      <td>5.496952</td>\n",
       "    </tr>\n",
       "    <tr>\n",
       "      <th>min</th>\n",
       "      <td>33.500000</td>\n",
       "    </tr>\n",
       "    <tr>\n",
       "      <th>25%</th>\n",
       "      <td>49.040000</td>\n",
       "    </tr>\n",
       "    <tr>\n",
       "      <th>50%</th>\n",
       "      <td>52.390000</td>\n",
       "    </tr>\n",
       "    <tr>\n",
       "      <th>75%</th>\n",
       "      <td>52.890000</td>\n",
       "    </tr>\n",
       "    <tr>\n",
       "      <th>max</th>\n",
       "      <td>63.000000</td>\n",
       "    </tr>\n",
       "    <tr>\n",
       "      <th>coef. variation</th>\n",
       "      <td>0.107591</td>\n",
       "    </tr>\n",
       "  </tbody>\n",
       "</table>\n",
       "</div>"
      ],
      "text/plain": [
       "                          Tasa\n",
       "count            143039.000000\n",
       "mean                 51.090954\n",
       "std                   5.496952\n",
       "min                  33.500000\n",
       "25%                  49.040000\n",
       "50%                  52.390000\n",
       "75%                  52.890000\n",
       "max                  63.000000\n",
       "coef. variation       0.107591"
      ]
     },
     "execution_count": 37,
     "metadata": {},
     "output_type": "execute_result"
    }
   ],
   "source": [
    "# Volvemos a describir los datos\n",
    "tabla_tasa2=tabla_descriptivas(df['Tasa'])\n",
    "tabla_tasa2"
   ]
  },
  {
   "cell_type": "code",
   "execution_count": 38,
   "id": "e1685348",
   "metadata": {},
   "outputs": [
    {
     "data": {
      "image/png": "[encoded data removed]",
      "text/plain": [
       "<Figure size 1000x500 with 1 Axes>"
      ]
     },
     "metadata": {},
     "output_type": "display_data"
    }
   ],
   "source": [
    "plt.figure(figsize=(10,5)) \n",
    "boxplot_tasa2=sns.boxplot(x=df['Tasa'],palette = \"viridis\", showmeans=True) ## crea el boxplot\n",
    "boxplot_tasa2.set_xlabel('Tasa') ## cambia el título del eje x\n",
    "boxplot_tasa2.set_xlim(30, 65)                     ## cambia los límites del eje x\n",
    "boxplot_tasa2.set_xticks(range(30,65,5))               ## cambia los valores del eje x\n",
    "boxplot_tasa2.set_title('Tasa de interes efectiva anual normalizada')\n",
    "plt.show() "
   ]
  },
  {
   "cell_type": "markdown",
   "id": "0b7e5a62-570a-409f-8344-244a85738c45",
   "metadata": {},
   "source": [
    "Se puede asumir que las taas de los prestamos se encuentran por encimas del 48% y por debajo del 53%"
   ]
  },
  {
   "cell_type": "code",
   "execution_count": 39,
   "id": "7cbb8a19",
   "metadata": {},
   "outputs": [
    {
     "data": {
      "text/plain": [
       "Mora\n",
       "No    120343\n",
       "Si     22696\n",
       "Name: count, dtype: int64"
      ]
     },
     "execution_count": 39,
     "metadata": {},
     "output_type": "execute_result"
    }
   ],
   "source": [
    "df[\"Mora\"].value_counts()"
   ]
  },
  {
   "cell_type": "markdown",
   "id": "78fca594",
   "metadata": {},
   "source": [
    "### Monto solicitado por el cliente:"
   ]
  },
  {
   "cell_type": "code",
   "execution_count": 40,
   "id": "259c23f6",
   "metadata": {},
   "outputs": [
    {
     "data": {
      "text/plain": [
       "0"
      ]
     },
     "execution_count": 40,
     "metadata": {},
     "output_type": "execute_result"
    }
   ],
   "source": [
    "# Confirmamos que no existan valores nulos\n",
    "df['Monto'].isna().sum()"
   ]
  },
  {
   "cell_type": "code",
   "execution_count": 41,
   "id": "585eefe4",
   "metadata": {
    "scrolled": true
   },
   "outputs": [
    {
     "name": "stdout",
     "output_type": "stream",
     "text": [
      "<class 'pandas.core.series.Series'>\n",
      "RangeIndex: 143039 entries, 0 to 143038\n",
      "Series name: Monto\n",
      "Non-Null Count   Dtype\n",
      "--------------   -----\n",
      "143039 non-null  int64\n",
      "dtypes: int64(1)\n",
      "memory usage: 1.1 MB\n"
     ]
    }
   ],
   "source": [
    "df['Monto'].info()"
   ]
  },
  {
   "cell_type": "code",
   "execution_count": 42,
   "id": "6085ba2e",
   "metadata": {},
   "outputs": [
    {
     "data": {
      "text/html": [
       "<div>\n",
       "<style scoped>\n",
       "    .dataframe tbody tr th:only-of-type {\n",
       "        vertical-align: middle;\n",
       "    }\n",
       "\n",
       "    .dataframe tbody tr th {\n",
       "        vertical-align: top;\n",
       "    }\n",
       "\n",
       "    .dataframe thead th {\n",
       "        text-align: right;\n",
       "    }\n",
       "</style>\n",
       "<table border=\"1\" class=\"dataframe\">\n",
       "  <thead>\n",
       "    <tr style=\"text-align: right;\">\n",
       "      <th></th>\n",
       "      <th>Monto</th>\n",
       "    </tr>\n",
       "  </thead>\n",
       "  <tbody>\n",
       "    <tr>\n",
       "      <th>count</th>\n",
       "      <td>1.430390e+05</td>\n",
       "    </tr>\n",
       "    <tr>\n",
       "      <th>mean</th>\n",
       "      <td>5.342129e+06</td>\n",
       "    </tr>\n",
       "    <tr>\n",
       "      <th>std</th>\n",
       "      <td>8.440950e+06</td>\n",
       "    </tr>\n",
       "    <tr>\n",
       "      <th>min</th>\n",
       "      <td>0.000000e+00</td>\n",
       "    </tr>\n",
       "    <tr>\n",
       "      <th>25%</th>\n",
       "      <td>2.206000e+06</td>\n",
       "    </tr>\n",
       "    <tr>\n",
       "      <th>50%</th>\n",
       "      <td>3.500000e+06</td>\n",
       "    </tr>\n",
       "    <tr>\n",
       "      <th>75%</th>\n",
       "      <td>5.569500e+06</td>\n",
       "    </tr>\n",
       "    <tr>\n",
       "      <th>max</th>\n",
       "      <td>3.300000e+08</td>\n",
       "    </tr>\n",
       "    <tr>\n",
       "      <th>coef. variation</th>\n",
       "      <td>1.580072e+00</td>\n",
       "    </tr>\n",
       "  </tbody>\n",
       "</table>\n",
       "</div>"
      ],
      "text/plain": [
       "                        Monto\n",
       "count            1.430390e+05\n",
       "mean             5.342129e+06\n",
       "std              8.440950e+06\n",
       "min              0.000000e+00\n",
       "25%              2.206000e+06\n",
       "50%              3.500000e+06\n",
       "75%              5.569500e+06\n",
       "max              3.300000e+08\n",
       "coef. variation  1.580072e+00"
      ]
     },
     "execution_count": 42,
     "metadata": {},
     "output_type": "execute_result"
    }
   ],
   "source": [
    "# Describimos los datos\n",
    "tabla_monto=tabla_descriptivas(df['Monto'])\n",
    "tabla_monto"
   ]
  },
  {
   "cell_type": "code",
   "execution_count": 43,
   "id": "7ce88541",
   "metadata": {},
   "outputs": [
    {
     "name": "stderr",
     "output_type": "stream",
     "text": [
      "c:\\ProgramData\\anaconda\\Lib\\site-packages\\seaborn\\_oldcore.py:1119: FutureWarning: use_inf_as_na option is deprecated and will be removed in a future version. Convert inf values to NaN before operating instead.\n",
      "  with pd.option_context('mode.use_inf_as_na', True):\n"
     ]
    },
    {
     "data": {
      "image/png": "[encoded data removed]",
      "text/plain": [
       "<Figure size 1000x500 with 1 Axes>"
      ]
     },
     "metadata": {},
     "output_type": "display_data"
    }
   ],
   "source": [
    "plt.figure(figsize=(10,5)) \n",
    "hist_Monto=sns.histplot(x=df[\"Monto\"],kde=True,color=\"steelblue\") ## crea el boxplot\n",
    "hist_Monto.set_xlabel('Monto') ## cambia el título del eje x\n",
    "hist_Monto.set_xlim(0, 250000001)                     ## cambia los límites del eje x\n",
    "hist_Monto.set_xticks(range(0,250000000,10000000))             ## cambia los valores del eje x\n",
    "hist_Monto.set_title('Distribución de monto')\n",
    "plt.show()"
   ]
  },
  {
   "cell_type": "markdown",
   "id": "a7f14030",
   "metadata": {},
   "source": [
    "De acuerdo con el conocimiento del negocio, se puede evidenciar outliers, dado que los montos no pueden ser inferiores a $800.000. El monto máximo está en $330.000.000."
   ]
  },
  {
   "cell_type": "code",
   "execution_count": 44,
   "id": "759b9230",
   "metadata": {},
   "outputs": [
    {
     "name": "stderr",
     "output_type": "stream",
     "text": [
      "C:\\Users\\Raul Echeverry\\AppData\\Local\\Temp\\ipykernel_2848\\1296247200.py:2: FutureWarning: Setting an item of incompatible dtype is deprecated and will raise in a future error of pandas. Value '5342129.495249547' has dtype incompatible with int64, please explicitly cast to a compatible dtype first.\n",
      "  df.loc[df['Monto'] < 800000, 'Monto'] = df[\"Monto\"].astype(\"int\").mean()\n"
     ]
    }
   ],
   "source": [
    "#Reemplazamos los outliers por valores el promedio de monto\n",
    "df.loc[df['Monto'] < 800000, 'Monto'] = df[\"Monto\"].astype(\"int\").mean()"
   ]
  },
  {
   "cell_type": "code",
   "execution_count": 45,
   "id": "30fafb65",
   "metadata": {},
   "outputs": [
    {
     "data": {
      "text/html": [
       "<div>\n",
       "<style scoped>\n",
       "    .dataframe tbody tr th:only-of-type {\n",
       "        vertical-align: middle;\n",
       "    }\n",
       "\n",
       "    .dataframe tbody tr th {\n",
       "        vertical-align: top;\n",
       "    }\n",
       "\n",
       "    .dataframe thead th {\n",
       "        text-align: right;\n",
       "    }\n",
       "</style>\n",
       "<table border=\"1\" class=\"dataframe\">\n",
       "  <thead>\n",
       "    <tr style=\"text-align: right;\">\n",
       "      <th></th>\n",
       "      <th>Monto</th>\n",
       "    </tr>\n",
       "  </thead>\n",
       "  <tbody>\n",
       "    <tr>\n",
       "      <th>count</th>\n",
       "      <td>1.430390e+05</td>\n",
       "    </tr>\n",
       "    <tr>\n",
       "      <th>mean</th>\n",
       "      <td>5.384516e+06</td>\n",
       "    </tr>\n",
       "    <tr>\n",
       "      <th>std</th>\n",
       "      <td>8.429072e+06</td>\n",
       "    </tr>\n",
       "    <tr>\n",
       "      <th>min</th>\n",
       "      <td>8.000000e+05</td>\n",
       "    </tr>\n",
       "    <tr>\n",
       "      <th>25%</th>\n",
       "      <td>2.270000e+06</td>\n",
       "    </tr>\n",
       "    <tr>\n",
       "      <th>50%</th>\n",
       "      <td>3.500000e+06</td>\n",
       "    </tr>\n",
       "    <tr>\n",
       "      <th>75%</th>\n",
       "      <td>5.569500e+06</td>\n",
       "    </tr>\n",
       "    <tr>\n",
       "      <th>max</th>\n",
       "      <td>3.300000e+08</td>\n",
       "    </tr>\n",
       "    <tr>\n",
       "      <th>coef. variation</th>\n",
       "      <td>1.565428e+00</td>\n",
       "    </tr>\n",
       "  </tbody>\n",
       "</table>\n",
       "</div>"
      ],
      "text/plain": [
       "                        Monto\n",
       "count            1.430390e+05\n",
       "mean             5.384516e+06\n",
       "std              8.429072e+06\n",
       "min              8.000000e+05\n",
       "25%              2.270000e+06\n",
       "50%              3.500000e+06\n",
       "75%              5.569500e+06\n",
       "max              3.300000e+08\n",
       "coef. variation  1.565428e+00"
      ]
     },
     "execution_count": 45,
     "metadata": {},
     "output_type": "execute_result"
    }
   ],
   "source": [
    "# Describimos los datos\n",
    "tabla_monto2=tabla_descriptivas(df['Monto'])\n",
    "tabla_monto2"
   ]
  },
  {
   "cell_type": "code",
   "execution_count": 46,
   "id": "a880fd43",
   "metadata": {},
   "outputs": [
    {
     "name": "stderr",
     "output_type": "stream",
     "text": [
      "c:\\ProgramData\\anaconda\\Lib\\site-packages\\seaborn\\_oldcore.py:1119: FutureWarning: use_inf_as_na option is deprecated and will be removed in a future version. Convert inf values to NaN before operating instead.\n",
      "  with pd.option_context('mode.use_inf_as_na', True):\n"
     ]
    },
    {
     "data": {
      "image/png": "[encoded data removed]",
      "text/plain": [
       "<Figure size 1000x500 with 1 Axes>"
      ]
     },
     "metadata": {},
     "output_type": "display_data"
    }
   ],
   "source": [
    "plt.figure(figsize=(10,5)) \n",
    "hist_Monto2=sns.histplot(x=df[\"Monto\"],kde=True,color=\"seagreen\") ## crea el boxplot\n",
    "hist_Monto2.set_xlabel('Monto') ## cambia el título del eje x\n",
    "hist_Monto2.set_xlim(0, 250000000)                     ## cambia los límites del eje x\n",
    "hist_Monto2.set_xticks(range(0,250000000,10000000))             ## cambia los valores del eje x\n",
    "hist_Monto2.set_title('Distribución de monto normalizado')\n",
    "plt.show()"
   ]
  },
  {
   "cell_type": "markdown",
   "id": "0cabbcd3",
   "metadata": {},
   "source": [
    "### Plazo del crédito en meses:"
   ]
  },
  {
   "cell_type": "code",
   "execution_count": 47,
   "id": "1c46d045",
   "metadata": {},
   "outputs": [
    {
     "data": {
      "text/plain": [
       "0"
      ]
     },
     "execution_count": 47,
     "metadata": {},
     "output_type": "execute_result"
    }
   ],
   "source": [
    "# Confirmamos que no existan valores nulos\n",
    "df['Plazo_Meses'].isna().sum()"
   ]
  },
  {
   "cell_type": "code",
   "execution_count": 48,
   "id": "4e8e83f3",
   "metadata": {},
   "outputs": [
    {
     "data": {
      "text/plain": [
       "count    143039.000000\n",
       "mean         18.877062\n",
       "std           8.219228\n",
       "min           0.000000\n",
       "25%          12.000000\n",
       "50%          18.000000\n",
       "75%          24.000000\n",
       "max         113.000000\n",
       "Name: Plazo_Meses, dtype: float64"
      ]
     },
     "execution_count": 48,
     "metadata": {},
     "output_type": "execute_result"
    }
   ],
   "source": [
    "df['Plazo_Meses'].describe()"
   ]
  },
  {
   "cell_type": "code",
   "execution_count": 49,
   "id": "ae416a51",
   "metadata": {},
   "outputs": [
    {
     "data": {
      "text/html": [
       "<div>\n",
       "<style scoped>\n",
       "    .dataframe tbody tr th:only-of-type {\n",
       "        vertical-align: middle;\n",
       "    }\n",
       "\n",
       "    .dataframe tbody tr th {\n",
       "        vertical-align: top;\n",
       "    }\n",
       "\n",
       "    .dataframe thead th {\n",
       "        text-align: right;\n",
       "    }\n",
       "</style>\n",
       "<table border=\"1\" class=\"dataframe\">\n",
       "  <thead>\n",
       "    <tr style=\"text-align: right;\">\n",
       "      <th></th>\n",
       "      <th>Plazo_Meses</th>\n",
       "    </tr>\n",
       "  </thead>\n",
       "  <tbody>\n",
       "    <tr>\n",
       "      <th>count</th>\n",
       "      <td>143039.000000</td>\n",
       "    </tr>\n",
       "    <tr>\n",
       "      <th>mean</th>\n",
       "      <td>18.877062</td>\n",
       "    </tr>\n",
       "    <tr>\n",
       "      <th>std</th>\n",
       "      <td>8.219228</td>\n",
       "    </tr>\n",
       "    <tr>\n",
       "      <th>min</th>\n",
       "      <td>0.000000</td>\n",
       "    </tr>\n",
       "    <tr>\n",
       "      <th>25%</th>\n",
       "      <td>12.000000</td>\n",
       "    </tr>\n",
       "    <tr>\n",
       "      <th>50%</th>\n",
       "      <td>18.000000</td>\n",
       "    </tr>\n",
       "    <tr>\n",
       "      <th>75%</th>\n",
       "      <td>24.000000</td>\n",
       "    </tr>\n",
       "    <tr>\n",
       "      <th>max</th>\n",
       "      <td>113.000000</td>\n",
       "    </tr>\n",
       "    <tr>\n",
       "      <th>coef. variation</th>\n",
       "      <td>0.435408</td>\n",
       "    </tr>\n",
       "  </tbody>\n",
       "</table>\n",
       "</div>"
      ],
      "text/plain": [
       "                   Plazo_Meses\n",
       "count            143039.000000\n",
       "mean                 18.877062\n",
       "std                   8.219228\n",
       "min                   0.000000\n",
       "25%                  12.000000\n",
       "50%                  18.000000\n",
       "75%                  24.000000\n",
       "max                 113.000000\n",
       "coef. variation       0.435408"
      ]
     },
     "execution_count": 49,
     "metadata": {},
     "output_type": "execute_result"
    }
   ],
   "source": [
    "tabla_plazo=tabla_descriptivas(df['Plazo_Meses'])\n",
    "tabla_plazo"
   ]
  },
  {
   "cell_type": "code",
   "execution_count": 50,
   "id": "82acaa48",
   "metadata": {},
   "outputs": [
    {
     "data": {
      "image/png": "[encoded data removed]",
      "text/plain": [
       "<Figure size 1000x500 with 1 Axes>"
      ]
     },
     "metadata": {},
     "output_type": "display_data"
    }
   ],
   "source": [
    "plt.figure(figsize=(10,5)) \n",
    "boxplot_plazo=sns.boxplot(x=df['Plazo_Meses'],palette = \"Set2\", showmeans=True) ## crea el boxplot\n",
    "boxplot_plazo.set_xlabel('Plazo en meses') ## cambia el título del eje x\n",
    "boxplot_plazo.set_xlim(-10, 100)                     ## cambia los límites del eje x\n",
    "boxplot_plazo.set_xticks(range(-10,100,10))               ## cambia los valores del eje x\n",
    "boxplot_plazo.set_title('Plazo del crédito en meses')\n",
    "plt.show() "
   ]
  },
  {
   "cell_type": "markdown",
   "id": "7370a6d8",
   "metadata": {},
   "source": [
    "De acuerdo con el conocimiento del negocio, se puede evidenciar outliers, dado que los plazos mínimo deben ser de 3 meses y máximo de 60 meses"
   ]
  },
  {
   "cell_type": "code",
   "execution_count": 51,
   "id": "8078c806",
   "metadata": {},
   "outputs": [
    {
     "name": "stderr",
     "output_type": "stream",
     "text": [
      "C:\\Users\\Raul Echeverry\\AppData\\Local\\Temp\\ipykernel_2848\\2825629625.py:2: FutureWarning: Setting an item of incompatible dtype is deprecated and will raise in a future error of pandas. Value '18.877061500709598' has dtype incompatible with int64, please explicitly cast to a compatible dtype first.\n",
      "  df.loc[df['Plazo_Meses'] < 3,'Plazo_Meses'] = df[\"Plazo_Meses\"].astype(\"float\").mean()\n"
     ]
    }
   ],
   "source": [
    "#Reemplazamos los outliers por valores el promedio de plazo\n",
    "df.loc[df['Plazo_Meses'] < 3,'Plazo_Meses'] = df[\"Plazo_Meses\"].astype(\"float\").mean()\n",
    "df.loc[df['Plazo_Meses'] > 60,'Plazo_Meses'] = 60"
   ]
  },
  {
   "cell_type": "code",
   "execution_count": 52,
   "id": "c6008d67",
   "metadata": {
    "scrolled": true
   },
   "outputs": [
    {
     "data": {
      "text/html": [
       "<div>\n",
       "<style scoped>\n",
       "    .dataframe tbody tr th:only-of-type {\n",
       "        vertical-align: middle;\n",
       "    }\n",
       "\n",
       "    .dataframe tbody tr th {\n",
       "        vertical-align: top;\n",
       "    }\n",
       "\n",
       "    .dataframe thead th {\n",
       "        text-align: right;\n",
       "    }\n",
       "</style>\n",
       "<table border=\"1\" class=\"dataframe\">\n",
       "  <thead>\n",
       "    <tr style=\"text-align: right;\">\n",
       "      <th></th>\n",
       "      <th>Plazo_Meses</th>\n",
       "    </tr>\n",
       "  </thead>\n",
       "  <tbody>\n",
       "    <tr>\n",
       "      <th>count</th>\n",
       "      <td>143039.000000</td>\n",
       "    </tr>\n",
       "    <tr>\n",
       "      <th>mean</th>\n",
       "      <td>18.906406</td>\n",
       "    </tr>\n",
       "    <tr>\n",
       "      <th>std</th>\n",
       "      <td>8.143764</td>\n",
       "    </tr>\n",
       "    <tr>\n",
       "      <th>min</th>\n",
       "      <td>3.000000</td>\n",
       "    </tr>\n",
       "    <tr>\n",
       "      <th>25%</th>\n",
       "      <td>12.000000</td>\n",
       "    </tr>\n",
       "    <tr>\n",
       "      <th>50%</th>\n",
       "      <td>18.000000</td>\n",
       "    </tr>\n",
       "    <tr>\n",
       "      <th>75%</th>\n",
       "      <td>24.000000</td>\n",
       "    </tr>\n",
       "    <tr>\n",
       "      <th>max</th>\n",
       "      <td>60.000000</td>\n",
       "    </tr>\n",
       "    <tr>\n",
       "      <th>coef. variation</th>\n",
       "      <td>0.430741</td>\n",
       "    </tr>\n",
       "  </tbody>\n",
       "</table>\n",
       "</div>"
      ],
      "text/plain": [
       "                   Plazo_Meses\n",
       "count            143039.000000\n",
       "mean                 18.906406\n",
       "std                   8.143764\n",
       "min                   3.000000\n",
       "25%                  12.000000\n",
       "50%                  18.000000\n",
       "75%                  24.000000\n",
       "max                  60.000000\n",
       "coef. variation       0.430741"
      ]
     },
     "execution_count": 52,
     "metadata": {},
     "output_type": "execute_result"
    }
   ],
   "source": [
    "tabla_plazo2=tabla_descriptivas(df['Plazo_Meses'])\n",
    "tabla_plazo2"
   ]
  },
  {
   "cell_type": "code",
   "execution_count": 53,
   "id": "753763b3",
   "metadata": {},
   "outputs": [
    {
     "data": {
      "image/png": "[encoded data removed]",
      "text/plain": [
       "<Figure size 1000x500 with 1 Axes>"
      ]
     },
     "metadata": {},
     "output_type": "display_data"
    }
   ],
   "source": [
    "plt.figure(figsize=(10,5)) \n",
    "boxplot_plazo2=sns.boxplot(x=df['Plazo_Meses'],palette = \"viridis\", showmeans=True) ## crea el boxplot\n",
    "boxplot_plazo2.set_xlabel('Plazo en meses') ## cambia el título del eje x\n",
    "boxplot_plazo2.set_xlim(0, 70)                     ## cambia los límites del eje x\n",
    "boxplot_plazo2.set_xticks(range(0,70,10))               ## cambia los valores del eje x\n",
    "boxplot_plazo2.set_title('Plazo del crédito en meses')\n",
    "plt.show() "
   ]
  },
  {
   "cell_type": "markdown",
   "id": "b9cfe225",
   "metadata": {},
   "source": [
    "### Antiguedad"
   ]
  },
  {
   "cell_type": "code",
   "execution_count": 54,
   "id": "e2bd238a",
   "metadata": {},
   "outputs": [
    {
     "data": {
      "text/plain": [
       "0"
      ]
     },
     "execution_count": 54,
     "metadata": {},
     "output_type": "execute_result"
    }
   ],
   "source": [
    "# Confirmamos que no existan valores nulos\n",
    "df['Antiguedad'].isna().sum()"
   ]
  },
  {
   "cell_type": "code",
   "execution_count": 55,
   "id": "1732c8b3",
   "metadata": {},
   "outputs": [
    {
     "data": {
      "text/html": [
       "<div>\n",
       "<style scoped>\n",
       "    .dataframe tbody tr th:only-of-type {\n",
       "        vertical-align: middle;\n",
       "    }\n",
       "\n",
       "    .dataframe tbody tr th {\n",
       "        vertical-align: top;\n",
       "    }\n",
       "\n",
       "    .dataframe thead th {\n",
       "        text-align: right;\n",
       "    }\n",
       "</style>\n",
       "<table border=\"1\" class=\"dataframe\">\n",
       "  <thead>\n",
       "    <tr style=\"text-align: right;\">\n",
       "      <th></th>\n",
       "      <th>Antiguedad</th>\n",
       "    </tr>\n",
       "  </thead>\n",
       "  <tbody>\n",
       "    <tr>\n",
       "      <th>count</th>\n",
       "      <td>143039.000000</td>\n",
       "    </tr>\n",
       "    <tr>\n",
       "      <th>mean</th>\n",
       "      <td>1.999986</td>\n",
       "    </tr>\n",
       "    <tr>\n",
       "      <th>std</th>\n",
       "      <td>0.003739</td>\n",
       "    </tr>\n",
       "    <tr>\n",
       "      <th>min</th>\n",
       "      <td>1.000000</td>\n",
       "    </tr>\n",
       "    <tr>\n",
       "      <th>25%</th>\n",
       "      <td>2.000000</td>\n",
       "    </tr>\n",
       "    <tr>\n",
       "      <th>50%</th>\n",
       "      <td>2.000000</td>\n",
       "    </tr>\n",
       "    <tr>\n",
       "      <th>75%</th>\n",
       "      <td>2.000000</td>\n",
       "    </tr>\n",
       "    <tr>\n",
       "      <th>max</th>\n",
       "      <td>2.000000</td>\n",
       "    </tr>\n",
       "    <tr>\n",
       "      <th>coef. variation</th>\n",
       "      <td>0.001870</td>\n",
       "    </tr>\n",
       "  </tbody>\n",
       "</table>\n",
       "</div>"
      ],
      "text/plain": [
       "                    Antiguedad\n",
       "count            143039.000000\n",
       "mean                  1.999986\n",
       "std                   0.003739\n",
       "min                   1.000000\n",
       "25%                   2.000000\n",
       "50%                   2.000000\n",
       "75%                   2.000000\n",
       "max                   2.000000\n",
       "coef. variation       0.001870"
      ]
     },
     "execution_count": 55,
     "metadata": {},
     "output_type": "execute_result"
    }
   ],
   "source": [
    "tabla_antiguedad=tabla_descriptivas(df['Antiguedad'])\n",
    "tabla_antiguedad"
   ]
  },
  {
   "cell_type": "code",
   "execution_count": 56,
   "id": "69432668",
   "metadata": {},
   "outputs": [
    {
     "data": {
      "image/png": "[encoded data removed]",
      "text/plain": [
       "<Figure size 1000x500 with 1 Axes>"
      ]
     },
     "metadata": {},
     "output_type": "display_data"
    }
   ],
   "source": [
    "plt.figure(figsize=(10,5)) \n",
    "boxplot_antiguedad=sns.boxplot(x=df['Antiguedad'],palette = \"Set2\", showmeans=True) ## crea el boxplot\n",
    "boxplot_antiguedad.set_xlabel('Antiguedad') ## cambia el título del eje x\n",
    "boxplot_antiguedad.set_title('Antiguedad del cliente')\n",
    "plt.show() "
   ]
  },
  {
   "cell_type": "markdown",
   "id": "b3090aa2",
   "metadata": {},
   "source": [
    "Esta columna de antigüedad contiene datos inconsistentes, donde se observa que los datos son 2 o 60, esto lleva a tomar la decisión de eliminar para el modelo esta columna o solicitar al área encargada la revisión de este campo de manera que cuando se solucione, solicitar de nuevo el dataset. "
   ]
  },
  {
   "cell_type": "markdown",
   "id": "195624d9",
   "metadata": {},
   "source": [
    "### Edad de clientes"
   ]
  },
  {
   "cell_type": "code",
   "execution_count": 57,
   "id": "25a56018",
   "metadata": {},
   "outputs": [
    {
     "data": {
      "text/plain": [
       "0"
      ]
     },
     "execution_count": 57,
     "metadata": {},
     "output_type": "execute_result"
    }
   ],
   "source": [
    "# Confirmamos que no existan valores nulos\n",
    "df['Edad'].isna().sum()"
   ]
  },
  {
   "cell_type": "code",
   "execution_count": 58,
   "id": "780455ad",
   "metadata": {
    "scrolled": true
   },
   "outputs": [
    {
     "data": {
      "text/html": [
       "<div>\n",
       "<style scoped>\n",
       "    .dataframe tbody tr th:only-of-type {\n",
       "        vertical-align: middle;\n",
       "    }\n",
       "\n",
       "    .dataframe tbody tr th {\n",
       "        vertical-align: top;\n",
       "    }\n",
       "\n",
       "    .dataframe thead th {\n",
       "        text-align: right;\n",
       "    }\n",
       "</style>\n",
       "<table border=\"1\" class=\"dataframe\">\n",
       "  <thead>\n",
       "    <tr style=\"text-align: right;\">\n",
       "      <th></th>\n",
       "      <th>Edad</th>\n",
       "    </tr>\n",
       "  </thead>\n",
       "  <tbody>\n",
       "    <tr>\n",
       "      <th>count</th>\n",
       "      <td>143039.000000</td>\n",
       "    </tr>\n",
       "    <tr>\n",
       "      <th>mean</th>\n",
       "      <td>42.748132</td>\n",
       "    </tr>\n",
       "    <tr>\n",
       "      <th>std</th>\n",
       "      <td>16.754938</td>\n",
       "    </tr>\n",
       "    <tr>\n",
       "      <th>min</th>\n",
       "      <td>-2970.000000</td>\n",
       "    </tr>\n",
       "    <tr>\n",
       "      <th>25%</th>\n",
       "      <td>30.000000</td>\n",
       "    </tr>\n",
       "    <tr>\n",
       "      <th>50%</th>\n",
       "      <td>42.000000</td>\n",
       "    </tr>\n",
       "    <tr>\n",
       "      <th>75%</th>\n",
       "      <td>54.000000</td>\n",
       "    </tr>\n",
       "    <tr>\n",
       "      <th>max</th>\n",
       "      <td>241.000000</td>\n",
       "    </tr>\n",
       "    <tr>\n",
       "      <th>coef. variation</th>\n",
       "      <td>0.391946</td>\n",
       "    </tr>\n",
       "  </tbody>\n",
       "</table>\n",
       "</div>"
      ],
      "text/plain": [
       "                          Edad\n",
       "count            143039.000000\n",
       "mean                 42.748132\n",
       "std                  16.754938\n",
       "min               -2970.000000\n",
       "25%                  30.000000\n",
       "50%                  42.000000\n",
       "75%                  54.000000\n",
       "max                 241.000000\n",
       "coef. variation       0.391946"
      ]
     },
     "execution_count": 58,
     "metadata": {},
     "output_type": "execute_result"
    }
   ],
   "source": [
    "tabla_edad=tabla_descriptivas(df['Edad'])\n",
    "tabla_edad"
   ]
  },
  {
   "cell_type": "code",
   "execution_count": 59,
   "id": "d3c8fb6c",
   "metadata": {},
   "outputs": [
    {
     "data": {
      "image/png": "[encoded data removed]",
      "text/plain": [
       "<Figure size 1000x500 with 1 Axes>"
      ]
     },
     "metadata": {},
     "output_type": "display_data"
    }
   ],
   "source": [
    "plt.figure(figsize=(10,5)) \n",
    "boxplot_edad=sns.boxplot(x=df['Edad'],palette = \"Set2\", showmeans=True) ## crea el boxplot\n",
    "boxplot_edad.set_xlabel('Edad') ## cambia el título del eje x\n",
    "boxplot_edad.set_title('Edad del cliente')\n",
    "plt.show() "
   ]
  },
  {
   "cell_type": "markdown",
   "id": "d0b24c38",
   "metadata": {},
   "source": [
    "Se detectan muchos outliers, dado que la edad mínima son 18 años y la edad máxima 65 años."
   ]
  },
  {
   "cell_type": "code",
   "execution_count": 60,
   "id": "c6a66edd",
   "metadata": {},
   "outputs": [
    {
     "name": "stderr",
     "output_type": "stream",
     "text": [
      "C:\\Users\\Raul Echeverry\\AppData\\Local\\Temp\\ipykernel_2848\\4218108645.py:2: FutureWarning: Setting an item of incompatible dtype is deprecated and will raise in a future error of pandas. Value '42.748131628437' has dtype incompatible with int64, please explicitly cast to a compatible dtype first.\n",
      "  df.loc[df['Edad'] < 18, 'Edad'] = df[\"Edad\"].astype(\"int\").mean()\n"
     ]
    }
   ],
   "source": [
    "#Reemplazamos los outliers por valores el promedio de plazo\n",
    "df.loc[df['Edad'] < 18, 'Edad'] = df[\"Edad\"].astype(\"int\").mean()\n",
    "df.loc[df['Edad'] > 65, 'Edad'] = df[\"Edad\"].astype(\"int\").mean()"
   ]
  },
  {
   "cell_type": "code",
   "execution_count": 61,
   "id": "e6e8d0a8",
   "metadata": {},
   "outputs": [
    {
     "data": {
      "text/html": [
       "<div>\n",
       "<style scoped>\n",
       "    .dataframe tbody tr th:only-of-type {\n",
       "        vertical-align: middle;\n",
       "    }\n",
       "\n",
       "    .dataframe tbody tr th {\n",
       "        vertical-align: top;\n",
       "    }\n",
       "\n",
       "    .dataframe thead th {\n",
       "        text-align: right;\n",
       "    }\n",
       "</style>\n",
       "<table border=\"1\" class=\"dataframe\">\n",
       "  <thead>\n",
       "    <tr style=\"text-align: right;\">\n",
       "      <th></th>\n",
       "      <th>Edad</th>\n",
       "    </tr>\n",
       "  </thead>\n",
       "  <tbody>\n",
       "    <tr>\n",
       "      <th>count</th>\n",
       "      <td>143039.000000</td>\n",
       "    </tr>\n",
       "    <tr>\n",
       "      <th>mean</th>\n",
       "      <td>40.805386</td>\n",
       "    </tr>\n",
       "    <tr>\n",
       "      <th>std</th>\n",
       "      <td>12.327001</td>\n",
       "    </tr>\n",
       "    <tr>\n",
       "      <th>min</th>\n",
       "      <td>18.000000</td>\n",
       "    </tr>\n",
       "    <tr>\n",
       "      <th>25%</th>\n",
       "      <td>31.000000</td>\n",
       "    </tr>\n",
       "    <tr>\n",
       "      <th>50%</th>\n",
       "      <td>42.000000</td>\n",
       "    </tr>\n",
       "    <tr>\n",
       "      <th>75%</th>\n",
       "      <td>50.000000</td>\n",
       "    </tr>\n",
       "    <tr>\n",
       "      <th>max</th>\n",
       "      <td>65.000000</td>\n",
       "    </tr>\n",
       "    <tr>\n",
       "      <th>coef. variation</th>\n",
       "      <td>0.302092</td>\n",
       "    </tr>\n",
       "  </tbody>\n",
       "</table>\n",
       "</div>"
      ],
      "text/plain": [
       "                          Edad\n",
       "count            143039.000000\n",
       "mean                 40.805386\n",
       "std                  12.327001\n",
       "min                  18.000000\n",
       "25%                  31.000000\n",
       "50%                  42.000000\n",
       "75%                  50.000000\n",
       "max                  65.000000\n",
       "coef. variation       0.302092"
      ]
     },
     "execution_count": 61,
     "metadata": {},
     "output_type": "execute_result"
    }
   ],
   "source": [
    "tabla_edad2=tabla_descriptivas(df['Edad'])\n",
    "tabla_edad2"
   ]
  },
  {
   "cell_type": "code",
   "execution_count": 62,
   "id": "9f535825",
   "metadata": {},
   "outputs": [
    {
     "data": {
      "image/png": "[encoded data removed]",
      "text/plain": [
       "<Figure size 1000x500 with 1 Axes>"
      ]
     },
     "metadata": {},
     "output_type": "display_data"
    }
   ],
   "source": [
    "plt.figure(figsize=(10,5)) \n",
    "boxplot_edad2=sns.boxplot(x=df['Edad'],palette = \"viridis\", showmeans=True) ## crea el boxplot\n",
    "boxplot_edad2.set_xlabel('Edad') ## cambia el título del eje x\n",
    "boxplot_edad2.set_title('Edad del cliente normalizada')\n",
    "plt.show() "
   ]
  },
  {
   "cell_type": "markdown",
   "id": "9e4e3118",
   "metadata": {},
   "source": [
    "### Personas a cargo"
   ]
  },
  {
   "cell_type": "code",
   "execution_count": 63,
   "id": "06b9b460",
   "metadata": {},
   "outputs": [
    {
     "data": {
      "text/plain": [
       "0"
      ]
     },
     "execution_count": 63,
     "metadata": {},
     "output_type": "execute_result"
    }
   ],
   "source": [
    "# Confirmamos que no existan valores nulos\n",
    "df['Personas_a_Cargo'].isna().sum()"
   ]
  },
  {
   "cell_type": "code",
   "execution_count": 64,
   "id": "e031bb8e",
   "metadata": {},
   "outputs": [
    {
     "data": {
      "text/plain": [
       "count    143039.000000\n",
       "mean          0.804375\n",
       "std           1.149715\n",
       "min           0.000000\n",
       "25%           0.000000\n",
       "50%           0.000000\n",
       "75%           1.000000\n",
       "max         200.000000\n",
       "Name: Personas_a_Cargo, dtype: float64"
      ]
     },
     "execution_count": 64,
     "metadata": {},
     "output_type": "execute_result"
    }
   ],
   "source": [
    "df['Personas_a_Cargo'].describe()"
   ]
  },
  {
   "cell_type": "code",
   "execution_count": 65,
   "id": "bc5b64fb",
   "metadata": {},
   "outputs": [
    {
     "data": {
      "text/html": [
       "<div>\n",
       "<style scoped>\n",
       "    .dataframe tbody tr th:only-of-type {\n",
       "        vertical-align: middle;\n",
       "    }\n",
       "\n",
       "    .dataframe tbody tr th {\n",
       "        vertical-align: top;\n",
       "    }\n",
       "\n",
       "    .dataframe thead th {\n",
       "        text-align: right;\n",
       "    }\n",
       "</style>\n",
       "<table border=\"1\" class=\"dataframe\">\n",
       "  <thead>\n",
       "    <tr style=\"text-align: right;\">\n",
       "      <th></th>\n",
       "      <th>Personas_a_Cargo</th>\n",
       "    </tr>\n",
       "  </thead>\n",
       "  <tbody>\n",
       "    <tr>\n",
       "      <th>count</th>\n",
       "      <td>143039.000000</td>\n",
       "    </tr>\n",
       "    <tr>\n",
       "      <th>mean</th>\n",
       "      <td>0.804375</td>\n",
       "    </tr>\n",
       "    <tr>\n",
       "      <th>std</th>\n",
       "      <td>1.149715</td>\n",
       "    </tr>\n",
       "    <tr>\n",
       "      <th>min</th>\n",
       "      <td>0.000000</td>\n",
       "    </tr>\n",
       "    <tr>\n",
       "      <th>25%</th>\n",
       "      <td>0.000000</td>\n",
       "    </tr>\n",
       "    <tr>\n",
       "      <th>50%</th>\n",
       "      <td>0.000000</td>\n",
       "    </tr>\n",
       "    <tr>\n",
       "      <th>75%</th>\n",
       "      <td>1.000000</td>\n",
       "    </tr>\n",
       "    <tr>\n",
       "      <th>max</th>\n",
       "      <td>200.000000</td>\n",
       "    </tr>\n",
       "    <tr>\n",
       "      <th>coef. variation</th>\n",
       "      <td>1.429327</td>\n",
       "    </tr>\n",
       "  </tbody>\n",
       "</table>\n",
       "</div>"
      ],
      "text/plain": [
       "                 Personas_a_Cargo\n",
       "count               143039.000000\n",
       "mean                     0.804375\n",
       "std                      1.149715\n",
       "min                      0.000000\n",
       "25%                      0.000000\n",
       "50%                      0.000000\n",
       "75%                      1.000000\n",
       "max                    200.000000\n",
       "coef. variation          1.429327"
      ]
     },
     "execution_count": 65,
     "metadata": {},
     "output_type": "execute_result"
    }
   ],
   "source": [
    "tabla_cargo=tabla_descriptivas(df['Personas_a_Cargo'])\n",
    "tabla_cargo"
   ]
  },
  {
   "cell_type": "markdown",
   "id": "5402f9bf-f4b2-4adc-ad23-d14eb2850346",
   "metadata": {},
   "source": [
    "## 4.3. Conclusión de Análisis Multivariado"
   ]
  },
  {
   "cell_type": "markdown",
   "id": "4dc5d33f-8965-40aa-b50d-4b663a144506",
   "metadata": {},
   "source": [
    "Dentro del análisis unvariado se pudo evidenciar variables con presencia de valores nulos pero es preocupante la cantidad de datos atípicos encontrados especialmente en las variables numéricas, donde se encontraron valores por fuera de los parámetros por fuera del funcionamiento del negocio.\n",
    "\n",
    "Por tanto se recomienda revisar la manera en que se esta realizando la recolección de la información con el fin de tener una mejor calidad de la DATA \n",
    "\n",
    "Dentro de la información analizada la de mayor relevancia es la agricultura (Aproximada mente 3 de cada 10 clientes se encuentran en este sector). Adicionalmente no existe una diferencia marcada entre genero en cuanto a solicitud y desembolso se créditos. Otro factor relevante detectado es que 5 de cada 10 cliente tiene casa propia y no esta hipotecada en el sistema financiero \n",
    "\n",
    "El 65,55% de los clientes son solteros o se encuentran en unión libre, lo que genera una oportunidad para la entidad para establecer campañas publicitarias segmentada a estos nichos.\n",
    "\n",
    "Los créditos colocados en esta entidad están en promedió de monto de $5.300.000,00 con plazos promedios de 18 meses y tasa promedio de 51% EA la edad de los clientes esta en 40 años \n"
   ]
  },
  {
   "cell_type": "markdown",
   "id": "bb4cdbf2",
   "metadata": {},
   "source": [
    "## 5. Análisis bivariado"
   ]
  },
  {
   "cell_type": "markdown",
   "id": "ec5d9005",
   "metadata": {},
   "source": [
    "#### Dado que el objetivo es identificar las características de clientes que incurren en mora, se realiza en análisis bivariado con respecto a esta variable objetivo.\n"
   ]
  },
  {
   "cell_type": "markdown",
   "id": "6a02cdb1",
   "metadata": {},
   "source": [
    "### Edad Vs Clientes que incurren en mora"
   ]
  },
  {
   "cell_type": "code",
   "execution_count": 66,
   "id": "ed592aba",
   "metadata": {
    "scrolled": true
   },
   "outputs": [
    {
     "data": {
      "text/plain": [
       "Mora\n",
       "No    120343\n",
       "Si     22696\n",
       "Name: count, dtype: int64"
      ]
     },
     "execution_count": 66,
     "metadata": {},
     "output_type": "execute_result"
    }
   ],
   "source": [
    "df[\"Mora\"].value_counts()"
   ]
  },
  {
   "cell_type": "code",
   "execution_count": 67,
   "id": "9d82b762-d298-4574-8733-a2d25456467e",
   "metadata": {},
   "outputs": [
    {
     "data": {
      "image/png": "[encoded data removed]",
      "text/plain": [
       "<Figure size 1500x1000 with 1 Axes>"
      ]
     },
     "metadata": {},
     "output_type": "display_data"
    }
   ],
   "source": [
    "plt.figure(figsize=(15,10)) \n",
    "boxplot_inter_not=sns.boxplot(x=df['Mora'],y=df['Edad'],palette=\"Set2\",showmeans=True) ## crea el boxplot\n",
    "boxplot_inter_not.set_xlabel('Mora') ## cambia el título del eje x\n",
    "boxplot_inter_not.set_ylabel('Edad') ## cambia el título del eje x\n",
    "boxplot_inter_not.set_ylim(18, 90)                     ## cambia los límites del eje x\n",
    "boxplot_inter_not.set_yticks(range(10,91,5))               ## cambia los valores del eje x\n",
    "boxplot_inter_not.set_title('Distribución Edad por incursión en Mora')\n",
    "plt.show() "
   ]
  },
  {
   "cell_type": "code",
   "execution_count": 68,
   "id": "81ccb39c-2659-4fbf-8bf5-420c4bb56107",
   "metadata": {},
   "outputs": [
    {
     "data": {
      "text/html": [
       "<div>\n",
       "<style scoped>\n",
       "    .dataframe tbody tr th:only-of-type {\n",
       "        vertical-align: middle;\n",
       "    }\n",
       "\n",
       "    .dataframe tbody tr th {\n",
       "        vertical-align: top;\n",
       "    }\n",
       "\n",
       "    .dataframe thead th {\n",
       "        text-align: right;\n",
       "    }\n",
       "</style>\n",
       "<table border=\"1\" class=\"dataframe\">\n",
       "  <thead>\n",
       "    <tr style=\"text-align: right;\">\n",
       "      <th></th>\n",
       "      <th>count</th>\n",
       "      <th>mean</th>\n",
       "      <th>std</th>\n",
       "      <th>min</th>\n",
       "      <th>25%</th>\n",
       "      <th>50%</th>\n",
       "      <th>75%</th>\n",
       "      <th>max</th>\n",
       "    </tr>\n",
       "    <tr>\n",
       "      <th>Mora</th>\n",
       "      <th></th>\n",
       "      <th></th>\n",
       "      <th></th>\n",
       "      <th></th>\n",
       "      <th></th>\n",
       "      <th></th>\n",
       "      <th></th>\n",
       "      <th></th>\n",
       "    </tr>\n",
       "  </thead>\n",
       "  <tbody>\n",
       "    <tr>\n",
       "      <th>No</th>\n",
       "      <td>120343.0</td>\n",
       "      <td>41.134471</td>\n",
       "      <td>12.315096</td>\n",
       "      <td>18.0</td>\n",
       "      <td>31.0</td>\n",
       "      <td>42.845539</td>\n",
       "      <td>51.0</td>\n",
       "      <td>65.0</td>\n",
       "    </tr>\n",
       "    <tr>\n",
       "      <th>Si</th>\n",
       "      <td>22696.0</td>\n",
       "      <td>39.060450</td>\n",
       "      <td>12.243283</td>\n",
       "      <td>18.0</td>\n",
       "      <td>29.0</td>\n",
       "      <td>39.000000</td>\n",
       "      <td>48.0</td>\n",
       "      <td>65.0</td>\n",
       "    </tr>\n",
       "  </tbody>\n",
       "</table>\n",
       "</div>"
      ],
      "text/plain": [
       "         count       mean        std   min   25%        50%   75%   max\n",
       "Mora                                                                   \n",
       "No    120343.0  41.134471  12.315096  18.0  31.0  42.845539  51.0  65.0\n",
       "Si     22696.0  39.060450  12.243283  18.0  29.0  39.000000  48.0  65.0"
      ]
     },
     "execution_count": 68,
     "metadata": {},
     "output_type": "execute_result"
    }
   ],
   "source": [
    "df.groupby(\"Mora\")['Edad'].describe()"
   ]
  },
  {
   "cell_type": "markdown",
   "id": "cf6e442b-0b6a-48f6-91cc-7a980ec53a0d",
   "metadata": {},
   "source": [
    "Como se puede evidenciar las personas que tiene una edad (dentro de los parametro de edad permitidos) son la que con mayor probabilidad incumplan con los pago y se atrasen en la cuotas"
   ]
  },
  {
   "cell_type": "markdown",
   "id": "73adeebd-d389-4f71-ad3d-6ed0b86f9f8a",
   "metadata": {},
   "source": [
    "### Plazo Vs Clientes que incurren en mora"
   ]
  },
  {
   "cell_type": "code",
   "execution_count": 69,
   "id": "8af86c30-abc3-4e9a-a386-afae28b412ac",
   "metadata": {},
   "outputs": [
    {
     "data": {
      "image/png": "[encoded data removed]",
      "text/plain": [
       "<Figure size 1500x1000 with 1 Axes>"
      ]
     },
     "metadata": {},
     "output_type": "display_data"
    }
   ],
   "source": [
    "plt.figure(figsize=(15,10)) \n",
    "boxplot_inter_not=sns.boxplot(x=df['Mora'],y=df['Plazo_Meses'],palette=\"Set2\",showmeans=True) ## crea el boxplot\n",
    "boxplot_inter_not.set_xlabel('Mora') ## cambia el título del eje x\n",
    "boxplot_inter_not.set_ylabel('Plazo_Meses') ## cambia el título del eje x\n",
    "boxplot_inter_not.set_ylim(0, 90)                     ## cambia los límites del eje x\n",
    "boxplot_inter_not.set_yticks(range(0,91,3))               ## cambia los valores del eje x\n",
    "boxplot_inter_not.set_title('Distribución Plazo por incursión en Mora')\n",
    "plt.show() "
   ]
  },
  {
   "cell_type": "code",
   "execution_count": 70,
   "id": "42a72efa-df78-4428-910b-032fb484e210",
   "metadata": {},
   "outputs": [
    {
     "data": {
      "text/html": [
       "<div>\n",
       "<style scoped>\n",
       "    .dataframe tbody tr th:only-of-type {\n",
       "        vertical-align: middle;\n",
       "    }\n",
       "\n",
       "    .dataframe tbody tr th {\n",
       "        vertical-align: top;\n",
       "    }\n",
       "\n",
       "    .dataframe thead th {\n",
       "        text-align: right;\n",
       "    }\n",
       "</style>\n",
       "<table border=\"1\" class=\"dataframe\">\n",
       "  <thead>\n",
       "    <tr style=\"text-align: right;\">\n",
       "      <th></th>\n",
       "      <th>count</th>\n",
       "      <th>mean</th>\n",
       "      <th>std</th>\n",
       "      <th>min</th>\n",
       "      <th>25%</th>\n",
       "      <th>50%</th>\n",
       "      <th>75%</th>\n",
       "      <th>max</th>\n",
       "    </tr>\n",
       "    <tr>\n",
       "      <th>Mora</th>\n",
       "      <th></th>\n",
       "      <th></th>\n",
       "      <th></th>\n",
       "      <th></th>\n",
       "      <th></th>\n",
       "      <th></th>\n",
       "      <th></th>\n",
       "      <th></th>\n",
       "    </tr>\n",
       "  </thead>\n",
       "  <tbody>\n",
       "    <tr>\n",
       "      <th>No</th>\n",
       "      <td>120343.0</td>\n",
       "      <td>18.659064</td>\n",
       "      <td>8.122389</td>\n",
       "      <td>3.0</td>\n",
       "      <td>12.0</td>\n",
       "      <td>18.0</td>\n",
       "      <td>24.0</td>\n",
       "      <td>60.0</td>\n",
       "    </tr>\n",
       "    <tr>\n",
       "      <th>Si</th>\n",
       "      <td>22696.0</td>\n",
       "      <td>20.217909</td>\n",
       "      <td>8.131599</td>\n",
       "      <td>3.0</td>\n",
       "      <td>14.0</td>\n",
       "      <td>18.0</td>\n",
       "      <td>24.0</td>\n",
       "      <td>60.0</td>\n",
       "    </tr>\n",
       "  </tbody>\n",
       "</table>\n",
       "</div>"
      ],
      "text/plain": [
       "         count       mean       std  min   25%   50%   75%   max\n",
       "Mora                                                            \n",
       "No    120343.0  18.659064  8.122389  3.0  12.0  18.0  24.0  60.0\n",
       "Si     22696.0  20.217909  8.131599  3.0  14.0  18.0  24.0  60.0"
      ]
     },
     "execution_count": 70,
     "metadata": {},
     "output_type": "execute_result"
    }
   ],
   "source": [
    "df.groupby(\"Mora\")['Plazo_Meses'].describe()"
   ]
  },
  {
   "cell_type": "markdown",
   "id": "cb12ee46-c8bd-40f0-8bd7-7f20814a2596",
   "metadata": {},
   "source": [
    "con la grafica anterior se puede intuir que los cliente para su deudas entre los 12 a 24 meses, pero a su vez estos son los periodos en los cuales tambien se dan mas las moras en los pagos"
   ]
  },
  {
   "cell_type": "markdown",
   "id": "e1290596-d53e-4c0d-9262-1cee43b866bd",
   "metadata": {},
   "source": [
    "### Tasa Vs Clientes que incurren en mora"
   ]
  },
  {
   "cell_type": "code",
   "execution_count": 71,
   "id": "3090843e-6912-4a3b-bd5b-1b6f868763bf",
   "metadata": {},
   "outputs": [
    {
     "data": {
      "image/png": "[encoded data removed]",
      "text/plain": [
       "<Figure size 1500x1000 with 1 Axes>"
      ]
     },
     "metadata": {},
     "output_type": "display_data"
    }
   ],
   "source": [
    "\n",
    "plt.figure(figsize=(15,10)) \n",
    "boxplot_inter_not=sns.boxplot(x=df['Mora'],y=df['Tasa'],palette=\"Set2\",showmeans=True) ## crea el boxplot\n",
    "boxplot_inter_not.set_xlabel('Mora') ## cambia el título del eje x\n",
    "boxplot_inter_not.set_ylabel('Tasa') ## cambia el título del eje x\n",
    "boxplot_inter_not.set_ylim(30, 70)                     ## cambia los límites del eje x\n",
    "boxplot_inter_not.set_yticks(range(30,70,5))               ## cambia los valores del eje x\n",
    "boxplot_inter_not.set_title('Distribución Edad por incursión en Mora')\n",
    "plt.show() "
   ]
  },
  {
   "cell_type": "code",
   "execution_count": 72,
   "id": "0eb00b00-53be-4e08-8518-05ab32774f4e",
   "metadata": {},
   "outputs": [
    {
     "data": {
      "text/html": [
       "<div>\n",
       "<style scoped>\n",
       "    .dataframe tbody tr th:only-of-type {\n",
       "        vertical-align: middle;\n",
       "    }\n",
       "\n",
       "    .dataframe tbody tr th {\n",
       "        vertical-align: top;\n",
       "    }\n",
       "\n",
       "    .dataframe thead th {\n",
       "        text-align: right;\n",
       "    }\n",
       "</style>\n",
       "<table border=\"1\" class=\"dataframe\">\n",
       "  <thead>\n",
       "    <tr style=\"text-align: right;\">\n",
       "      <th></th>\n",
       "      <th>count</th>\n",
       "      <th>mean</th>\n",
       "      <th>std</th>\n",
       "      <th>min</th>\n",
       "      <th>25%</th>\n",
       "      <th>50%</th>\n",
       "      <th>75%</th>\n",
       "      <th>max</th>\n",
       "    </tr>\n",
       "    <tr>\n",
       "      <th>Mora</th>\n",
       "      <th></th>\n",
       "      <th></th>\n",
       "      <th></th>\n",
       "      <th></th>\n",
       "      <th></th>\n",
       "      <th></th>\n",
       "      <th></th>\n",
       "      <th></th>\n",
       "    </tr>\n",
       "  </thead>\n",
       "  <tbody>\n",
       "    <tr>\n",
       "      <th>No</th>\n",
       "      <td>120343.0</td>\n",
       "      <td>51.107362</td>\n",
       "      <td>5.658316</td>\n",
       "      <td>33.5</td>\n",
       "      <td>49.04</td>\n",
       "      <td>52.39</td>\n",
       "      <td>52.89</td>\n",
       "      <td>63.0</td>\n",
       "    </tr>\n",
       "    <tr>\n",
       "      <th>Si</th>\n",
       "      <td>22696.0</td>\n",
       "      <td>51.003954</td>\n",
       "      <td>4.545756</td>\n",
       "      <td>33.5</td>\n",
       "      <td>49.70</td>\n",
       "      <td>52.39</td>\n",
       "      <td>54.18</td>\n",
       "      <td>58.0</td>\n",
       "    </tr>\n",
       "  </tbody>\n",
       "</table>\n",
       "</div>"
      ],
      "text/plain": [
       "         count       mean       std   min    25%    50%    75%   max\n",
       "Mora                                                                \n",
       "No    120343.0  51.107362  5.658316  33.5  49.04  52.39  52.89  63.0\n",
       "Si     22696.0  51.003954  4.545756  33.5  49.70  52.39  54.18  58.0"
      ]
     },
     "execution_count": 72,
     "metadata": {},
     "output_type": "execute_result"
    }
   ],
   "source": [
    "df.groupby(\"Mora\")['Tasa'].describe()"
   ]
  },
  {
   "cell_type": "markdown",
   "id": "8b2ba97e-64f6-4069-9beb-e5437a97d922",
   "metadata": {},
   "source": [
    "Las personas que solicitaron y les otorgaron un crédito con tasas más altas, son más propensas a incurrir en mora."
   ]
  },
  {
   "cell_type": "markdown",
   "id": "b99ba552-475d-49fc-9a81-61b94b5af260",
   "metadata": {},
   "source": [
    "### 5.1. Conclusión análisis multivariado"
   ]
  },
  {
   "cell_type": "markdown",
   "id": "47436d0f-cec5-4dc9-8675-31712776aded",
   "metadata": {},
   "source": [
    "Se puede evidenciar en lo analizado que los clientes de menor edad son más propensos a quedar en mora frente a sus obligaciones financieras. También se detectó una leve relación en la imposición de la tasa, dado una tasa mayor también la incursión en mora es impactada. Sin embargo no se evidencio un variable que tenga una fuerte correlación dentro de las analizadas."
   ]
  },
  {
   "attachments": {},
   "cell_type": "markdown",
   "id": "6012bec9-45d2-417a-9053-8f8d508dbd15",
   "metadata": {},
   "source": [
    "### 6. Modelo predictivo de MORA"
   ]
  },
  {
   "cell_type": "code",
   "execution_count": 73,
   "id": "1f4f8538-eedc-4cb3-8f57-1eb50b248352",
   "metadata": {},
   "outputs": [
    {
     "data": {
      "text/html": [
       "<div>\n",
       "<style scoped>\n",
       "    .dataframe tbody tr th:only-of-type {\n",
       "        vertical-align: middle;\n",
       "    }\n",
       "\n",
       "    .dataframe tbody tr th {\n",
       "        vertical-align: top;\n",
       "    }\n",
       "\n",
       "    .dataframe thead th {\n",
       "        text-align: right;\n",
       "    }\n",
       "</style>\n",
       "<table border=\"1\" class=\"dataframe\">\n",
       "  <thead>\n",
       "    <tr style=\"text-align: right;\">\n",
       "      <th></th>\n",
       "      <th>ID</th>\n",
       "      <th>Sector_Actividad</th>\n",
       "      <th>Tasa</th>\n",
       "      <th>Monto</th>\n",
       "      <th>Plazo_Meses</th>\n",
       "      <th>Antiguedad</th>\n",
       "      <th>Sexo</th>\n",
       "      <th>Tipo_Vivienda</th>\n",
       "      <th>Tipo_cliente</th>\n",
       "      <th>Edad</th>\n",
       "      <th>Personas_a_Cargo</th>\n",
       "      <th>Estado_Civil</th>\n",
       "      <th>Mora</th>\n",
       "    </tr>\n",
       "  </thead>\n",
       "  <tbody>\n",
       "    <tr>\n",
       "      <th>0</th>\n",
       "      <td>1</td>\n",
       "      <td>COMERCIO</td>\n",
       "      <td>52.89</td>\n",
       "      <td>2400000.0</td>\n",
       "      <td>12.0</td>\n",
       "      <td>2</td>\n",
       "      <td>Mujer</td>\n",
       "      <td>Arrendada</td>\n",
       "      <td>Nuevo</td>\n",
       "      <td>24.000000</td>\n",
       "      <td>0</td>\n",
       "      <td>Unión Libre</td>\n",
       "      <td>No</td>\n",
       "    </tr>\n",
       "    <tr>\n",
       "      <th>1</th>\n",
       "      <td>2</td>\n",
       "      <td>AGRICULTURA</td>\n",
       "      <td>55.00</td>\n",
       "      <td>5582000.0</td>\n",
       "      <td>23.0</td>\n",
       "      <td>2</td>\n",
       "      <td>Mujer</td>\n",
       "      <td>Arrendada</td>\n",
       "      <td>Nuevo</td>\n",
       "      <td>34.000000</td>\n",
       "      <td>1</td>\n",
       "      <td>Casado/a</td>\n",
       "      <td>Si</td>\n",
       "    </tr>\n",
       "    <tr>\n",
       "      <th>2</th>\n",
       "      <td>3</td>\n",
       "      <td>COMERCIO</td>\n",
       "      <td>52.39</td>\n",
       "      <td>2300000.0</td>\n",
       "      <td>20.0</td>\n",
       "      <td>2</td>\n",
       "      <td>Mujer</td>\n",
       "      <td>Arrendada</td>\n",
       "      <td>Nuevo</td>\n",
       "      <td>23.000000</td>\n",
       "      <td>0</td>\n",
       "      <td>Soltero/a</td>\n",
       "      <td>No</td>\n",
       "    </tr>\n",
       "    <tr>\n",
       "      <th>3</th>\n",
       "      <td>4</td>\n",
       "      <td>ARTESANÍAS</td>\n",
       "      <td>55.20</td>\n",
       "      <td>1774000.0</td>\n",
       "      <td>16.0</td>\n",
       "      <td>2</td>\n",
       "      <td>Hombre</td>\n",
       "      <td>Familiar</td>\n",
       "      <td>Nuevo</td>\n",
       "      <td>22.000000</td>\n",
       "      <td>0</td>\n",
       "      <td>Soltero/a</td>\n",
       "      <td>No</td>\n",
       "    </tr>\n",
       "    <tr>\n",
       "      <th>4</th>\n",
       "      <td>5</td>\n",
       "      <td>SERVICIOS</td>\n",
       "      <td>63.00</td>\n",
       "      <td>2000000.0</td>\n",
       "      <td>14.0</td>\n",
       "      <td>2</td>\n",
       "      <td>Mujer</td>\n",
       "      <td>Familiar</td>\n",
       "      <td>Nuevo</td>\n",
       "      <td>21.000000</td>\n",
       "      <td>0</td>\n",
       "      <td>Soltero/a</td>\n",
       "      <td>No</td>\n",
       "    </tr>\n",
       "    <tr>\n",
       "      <th>...</th>\n",
       "      <td>...</td>\n",
       "      <td>...</td>\n",
       "      <td>...</td>\n",
       "      <td>...</td>\n",
       "      <td>...</td>\n",
       "      <td>...</td>\n",
       "      <td>...</td>\n",
       "      <td>...</td>\n",
       "      <td>...</td>\n",
       "      <td>...</td>\n",
       "      <td>...</td>\n",
       "      <td>...</td>\n",
       "      <td>...</td>\n",
       "    </tr>\n",
       "    <tr>\n",
       "      <th>143034</th>\n",
       "      <td>143035</td>\n",
       "      <td>COMERCIO</td>\n",
       "      <td>52.89</td>\n",
       "      <td>4350000.0</td>\n",
       "      <td>18.0</td>\n",
       "      <td>2</td>\n",
       "      <td>Mujer</td>\n",
       "      <td>Propia sin Deuda</td>\n",
       "      <td>Nuevo</td>\n",
       "      <td>35.000000</td>\n",
       "      <td>3</td>\n",
       "      <td>Soltero/a</td>\n",
       "      <td>No</td>\n",
       "    </tr>\n",
       "    <tr>\n",
       "      <th>143035</th>\n",
       "      <td>143036</td>\n",
       "      <td>COMERCIO</td>\n",
       "      <td>46.00</td>\n",
       "      <td>15300000.0</td>\n",
       "      <td>12.0</td>\n",
       "      <td>2</td>\n",
       "      <td>Mujer</td>\n",
       "      <td>Propia sin Deuda</td>\n",
       "      <td>Nuevo</td>\n",
       "      <td>32.000000</td>\n",
       "      <td>1</td>\n",
       "      <td>Casado/a</td>\n",
       "      <td>No</td>\n",
       "    </tr>\n",
       "    <tr>\n",
       "      <th>143036</th>\n",
       "      <td>143037</td>\n",
       "      <td>COMERCIO</td>\n",
       "      <td>52.39</td>\n",
       "      <td>4500000.0</td>\n",
       "      <td>12.0</td>\n",
       "      <td>2</td>\n",
       "      <td>Mujer</td>\n",
       "      <td>Propia sin Deuda</td>\n",
       "      <td>Nuevo</td>\n",
       "      <td>42.000000</td>\n",
       "      <td>2</td>\n",
       "      <td>Unión Libre</td>\n",
       "      <td>No</td>\n",
       "    </tr>\n",
       "    <tr>\n",
       "      <th>143037</th>\n",
       "      <td>143038</td>\n",
       "      <td>COMERCIO</td>\n",
       "      <td>43.14</td>\n",
       "      <td>8200000.0</td>\n",
       "      <td>24.0</td>\n",
       "      <td>2</td>\n",
       "      <td>Hombre</td>\n",
       "      <td>Arrendada</td>\n",
       "      <td>Nuevo</td>\n",
       "      <td>42.845539</td>\n",
       "      <td>0</td>\n",
       "      <td>Unión Libre</td>\n",
       "      <td>No</td>\n",
       "    </tr>\n",
       "    <tr>\n",
       "      <th>143038</th>\n",
       "      <td>143039</td>\n",
       "      <td>COMERCIO</td>\n",
       "      <td>52.39</td>\n",
       "      <td>6000000.0</td>\n",
       "      <td>24.0</td>\n",
       "      <td>2</td>\n",
       "      <td>Hombre</td>\n",
       "      <td>Propia con Deuda</td>\n",
       "      <td>Nuevo</td>\n",
       "      <td>55.000000</td>\n",
       "      <td>0</td>\n",
       "      <td>Casado/a</td>\n",
       "      <td>No</td>\n",
       "    </tr>\n",
       "  </tbody>\n",
       "</table>\n",
       "<p>143039 rows × 13 columns</p>\n",
       "</div>"
      ],
      "text/plain": [
       "            ID Sector_Actividad   Tasa       Monto  Plazo_Meses  Antiguedad  \\\n",
       "0            1         COMERCIO  52.89   2400000.0         12.0           2   \n",
       "1            2      AGRICULTURA  55.00   5582000.0         23.0           2   \n",
       "2            3         COMERCIO  52.39   2300000.0         20.0           2   \n",
       "3            4       ARTESANÍAS  55.20   1774000.0         16.0           2   \n",
       "4            5        SERVICIOS  63.00   2000000.0         14.0           2   \n",
       "...        ...              ...    ...         ...          ...         ...   \n",
       "143034  143035         COMERCIO  52.89   4350000.0         18.0           2   \n",
       "143035  143036         COMERCIO  46.00  15300000.0         12.0           2   \n",
       "143036  143037         COMERCIO  52.39   4500000.0         12.0           2   \n",
       "143037  143038         COMERCIO  43.14   8200000.0         24.0           2   \n",
       "143038  143039         COMERCIO  52.39   6000000.0         24.0           2   \n",
       "\n",
       "          Sexo     Tipo_Vivienda Tipo_cliente       Edad  Personas_a_Cargo  \\\n",
       "0        Mujer         Arrendada        Nuevo  24.000000                 0   \n",
       "1        Mujer         Arrendada        Nuevo  34.000000                 1   \n",
       "2        Mujer         Arrendada        Nuevo  23.000000                 0   \n",
       "3       Hombre          Familiar        Nuevo  22.000000                 0   \n",
       "4        Mujer          Familiar        Nuevo  21.000000                 0   \n",
       "...        ...               ...          ...        ...               ...   \n",
       "143034   Mujer  Propia sin Deuda        Nuevo  35.000000                 3   \n",
       "143035   Mujer  Propia sin Deuda        Nuevo  32.000000                 1   \n",
       "143036   Mujer  Propia sin Deuda        Nuevo  42.000000                 2   \n",
       "143037  Hombre         Arrendada        Nuevo  42.845539                 0   \n",
       "143038  Hombre  Propia con Deuda        Nuevo  55.000000                 0   \n",
       "\n",
       "       Estado_Civil Mora  \n",
       "0       Unión Libre   No  \n",
       "1          Casado/a   Si  \n",
       "2         Soltero/a   No  \n",
       "3         Soltero/a   No  \n",
       "4         Soltero/a   No  \n",
       "...             ...  ...  \n",
       "143034    Soltero/a   No  \n",
       "143035     Casado/a   No  \n",
       "143036  Unión Libre   No  \n",
       "143037  Unión Libre   No  \n",
       "143038     Casado/a   No  \n",
       "\n",
       "[143039 rows x 13 columns]"
      ]
     },
     "execution_count": 73,
     "metadata": {},
     "output_type": "execute_result"
    }
   ],
   "source": [
    "# Se trae el DATASET con las modificaciones que se le a hecho en las etapas anteriores\n",
    "df"
   ]
  },
  {
   "cell_type": "code",
   "execution_count": 74,
   "id": "f61b25f9-2541-4e16-a255-2a514355eed7",
   "metadata": {},
   "outputs": [],
   "source": [
    "#Reemplazamos variables categóricas por numéricas: Genero,tipo de cliente y mora\n",
    "df['Sexo'] = df['Sexo'].replace({\"Hombre\": 1, \"Mujer\": 0})\n",
    "df['Sexo'] = df['Sexo'].astype(int)\n",
    "\n",
    "df['Tipo_cliente'] = df['Tipo_cliente'].replace({\"Nuevo\": 1, \"Preferencial\": 0})\n",
    "df['Tipo_cliente'] = df['Tipo_cliente'].astype(int)\n",
    "\n",
    "df['Mora'] = df['Mora'].replace({\"Si\": 1, \"No\": 0})\n",
    "df['Mora'] = df['Mora'].astype(int)"
   ]
  },
  {
   "cell_type": "code",
   "execution_count": 75,
   "id": "afefbe2f-6c90-4613-a8ed-f51250caf8ee",
   "metadata": {},
   "outputs": [
    {
     "data": {
      "text/html": [
       "<div>\n",
       "<style scoped>\n",
       "    .dataframe tbody tr th:only-of-type {\n",
       "        vertical-align: middle;\n",
       "    }\n",
       "\n",
       "    .dataframe tbody tr th {\n",
       "        vertical-align: top;\n",
       "    }\n",
       "\n",
       "    .dataframe thead th {\n",
       "        text-align: right;\n",
       "    }\n",
       "</style>\n",
       "<table border=\"1\" class=\"dataframe\">\n",
       "  <thead>\n",
       "    <tr style=\"text-align: right;\">\n",
       "      <th></th>\n",
       "      <th>ID</th>\n",
       "      <th>Sector_Actividad</th>\n",
       "      <th>Tasa</th>\n",
       "      <th>Monto</th>\n",
       "      <th>Plazo_Meses</th>\n",
       "      <th>Antiguedad</th>\n",
       "      <th>Sexo</th>\n",
       "      <th>Tipo_Vivienda</th>\n",
       "      <th>Tipo_cliente</th>\n",
       "      <th>Edad</th>\n",
       "      <th>Personas_a_Cargo</th>\n",
       "      <th>Estado_Civil</th>\n",
       "      <th>Mora</th>\n",
       "    </tr>\n",
       "  </thead>\n",
       "  <tbody>\n",
       "    <tr>\n",
       "      <th>0</th>\n",
       "      <td>1</td>\n",
       "      <td>COMERCIO</td>\n",
       "      <td>52.89</td>\n",
       "      <td>2400000.0</td>\n",
       "      <td>12.0</td>\n",
       "      <td>2</td>\n",
       "      <td>0</td>\n",
       "      <td>Arrendada</td>\n",
       "      <td>1</td>\n",
       "      <td>24.000000</td>\n",
       "      <td>0</td>\n",
       "      <td>Unión Libre</td>\n",
       "      <td>0</td>\n",
       "    </tr>\n",
       "    <tr>\n",
       "      <th>1</th>\n",
       "      <td>2</td>\n",
       "      <td>AGRICULTURA</td>\n",
       "      <td>55.00</td>\n",
       "      <td>5582000.0</td>\n",
       "      <td>23.0</td>\n",
       "      <td>2</td>\n",
       "      <td>0</td>\n",
       "      <td>Arrendada</td>\n",
       "      <td>1</td>\n",
       "      <td>34.000000</td>\n",
       "      <td>1</td>\n",
       "      <td>Casado/a</td>\n",
       "      <td>1</td>\n",
       "    </tr>\n",
       "    <tr>\n",
       "      <th>2</th>\n",
       "      <td>3</td>\n",
       "      <td>COMERCIO</td>\n",
       "      <td>52.39</td>\n",
       "      <td>2300000.0</td>\n",
       "      <td>20.0</td>\n",
       "      <td>2</td>\n",
       "      <td>0</td>\n",
       "      <td>Arrendada</td>\n",
       "      <td>1</td>\n",
       "      <td>23.000000</td>\n",
       "      <td>0</td>\n",
       "      <td>Soltero/a</td>\n",
       "      <td>0</td>\n",
       "    </tr>\n",
       "    <tr>\n",
       "      <th>3</th>\n",
       "      <td>4</td>\n",
       "      <td>ARTESANÍAS</td>\n",
       "      <td>55.20</td>\n",
       "      <td>1774000.0</td>\n",
       "      <td>16.0</td>\n",
       "      <td>2</td>\n",
       "      <td>1</td>\n",
       "      <td>Familiar</td>\n",
       "      <td>1</td>\n",
       "      <td>22.000000</td>\n",
       "      <td>0</td>\n",
       "      <td>Soltero/a</td>\n",
       "      <td>0</td>\n",
       "    </tr>\n",
       "    <tr>\n",
       "      <th>4</th>\n",
       "      <td>5</td>\n",
       "      <td>SERVICIOS</td>\n",
       "      <td>63.00</td>\n",
       "      <td>2000000.0</td>\n",
       "      <td>14.0</td>\n",
       "      <td>2</td>\n",
       "      <td>0</td>\n",
       "      <td>Familiar</td>\n",
       "      <td>1</td>\n",
       "      <td>21.000000</td>\n",
       "      <td>0</td>\n",
       "      <td>Soltero/a</td>\n",
       "      <td>0</td>\n",
       "    </tr>\n",
       "    <tr>\n",
       "      <th>...</th>\n",
       "      <td>...</td>\n",
       "      <td>...</td>\n",
       "      <td>...</td>\n",
       "      <td>...</td>\n",
       "      <td>...</td>\n",
       "      <td>...</td>\n",
       "      <td>...</td>\n",
       "      <td>...</td>\n",
       "      <td>...</td>\n",
       "      <td>...</td>\n",
       "      <td>...</td>\n",
       "      <td>...</td>\n",
       "      <td>...</td>\n",
       "    </tr>\n",
       "    <tr>\n",
       "      <th>143034</th>\n",
       "      <td>143035</td>\n",
       "      <td>COMERCIO</td>\n",
       "      <td>52.89</td>\n",
       "      <td>4350000.0</td>\n",
       "      <td>18.0</td>\n",
       "      <td>2</td>\n",
       "      <td>0</td>\n",
       "      <td>Propia sin Deuda</td>\n",
       "      <td>1</td>\n",
       "      <td>35.000000</td>\n",
       "      <td>3</td>\n",
       "      <td>Soltero/a</td>\n",
       "      <td>0</td>\n",
       "    </tr>\n",
       "    <tr>\n",
       "      <th>143035</th>\n",
       "      <td>143036</td>\n",
       "      <td>COMERCIO</td>\n",
       "      <td>46.00</td>\n",
       "      <td>15300000.0</td>\n",
       "      <td>12.0</td>\n",
       "      <td>2</td>\n",
       "      <td>0</td>\n",
       "      <td>Propia sin Deuda</td>\n",
       "      <td>1</td>\n",
       "      <td>32.000000</td>\n",
       "      <td>1</td>\n",
       "      <td>Casado/a</td>\n",
       "      <td>0</td>\n",
       "    </tr>\n",
       "    <tr>\n",
       "      <th>143036</th>\n",
       "      <td>143037</td>\n",
       "      <td>COMERCIO</td>\n",
       "      <td>52.39</td>\n",
       "      <td>4500000.0</td>\n",
       "      <td>12.0</td>\n",
       "      <td>2</td>\n",
       "      <td>0</td>\n",
       "      <td>Propia sin Deuda</td>\n",
       "      <td>1</td>\n",
       "      <td>42.000000</td>\n",
       "      <td>2</td>\n",
       "      <td>Unión Libre</td>\n",
       "      <td>0</td>\n",
       "    </tr>\n",
       "    <tr>\n",
       "      <th>143037</th>\n",
       "      <td>143038</td>\n",
       "      <td>COMERCIO</td>\n",
       "      <td>43.14</td>\n",
       "      <td>8200000.0</td>\n",
       "      <td>24.0</td>\n",
       "      <td>2</td>\n",
       "      <td>1</td>\n",
       "      <td>Arrendada</td>\n",
       "      <td>1</td>\n",
       "      <td>42.845539</td>\n",
       "      <td>0</td>\n",
       "      <td>Unión Libre</td>\n",
       "      <td>0</td>\n",
       "    </tr>\n",
       "    <tr>\n",
       "      <th>143038</th>\n",
       "      <td>143039</td>\n",
       "      <td>COMERCIO</td>\n",
       "      <td>52.39</td>\n",
       "      <td>6000000.0</td>\n",
       "      <td>24.0</td>\n",
       "      <td>2</td>\n",
       "      <td>1</td>\n",
       "      <td>Propia con Deuda</td>\n",
       "      <td>1</td>\n",
       "      <td>55.000000</td>\n",
       "      <td>0</td>\n",
       "      <td>Casado/a</td>\n",
       "      <td>0</td>\n",
       "    </tr>\n",
       "  </tbody>\n",
       "</table>\n",
       "<p>143039 rows × 13 columns</p>\n",
       "</div>"
      ],
      "text/plain": [
       "            ID Sector_Actividad   Tasa       Monto  Plazo_Meses  Antiguedad  \\\n",
       "0            1         COMERCIO  52.89   2400000.0         12.0           2   \n",
       "1            2      AGRICULTURA  55.00   5582000.0         23.0           2   \n",
       "2            3         COMERCIO  52.39   2300000.0         20.0           2   \n",
       "3            4       ARTESANÍAS  55.20   1774000.0         16.0           2   \n",
       "4            5        SERVICIOS  63.00   2000000.0         14.0           2   \n",
       "...        ...              ...    ...         ...          ...         ...   \n",
       "143034  143035         COMERCIO  52.89   4350000.0         18.0           2   \n",
       "143035  143036         COMERCIO  46.00  15300000.0         12.0           2   \n",
       "143036  143037         COMERCIO  52.39   4500000.0         12.0           2   \n",
       "143037  143038         COMERCIO  43.14   8200000.0         24.0           2   \n",
       "143038  143039         COMERCIO  52.39   6000000.0         24.0           2   \n",
       "\n",
       "        Sexo     Tipo_Vivienda  Tipo_cliente       Edad  Personas_a_Cargo  \\\n",
       "0          0         Arrendada             1  24.000000                 0   \n",
       "1          0         Arrendada             1  34.000000                 1   \n",
       "2          0         Arrendada             1  23.000000                 0   \n",
       "3          1          Familiar             1  22.000000                 0   \n",
       "4          0          Familiar             1  21.000000                 0   \n",
       "...      ...               ...           ...        ...               ...   \n",
       "143034     0  Propia sin Deuda             1  35.000000                 3   \n",
       "143035     0  Propia sin Deuda             1  32.000000                 1   \n",
       "143036     0  Propia sin Deuda             1  42.000000                 2   \n",
       "143037     1         Arrendada             1  42.845539                 0   \n",
       "143038     1  Propia con Deuda             1  55.000000                 0   \n",
       "\n",
       "       Estado_Civil  Mora  \n",
       "0       Unión Libre     0  \n",
       "1          Casado/a     1  \n",
       "2         Soltero/a     0  \n",
       "3         Soltero/a     0  \n",
       "4         Soltero/a     0  \n",
       "...             ...   ...  \n",
       "143034    Soltero/a     0  \n",
       "143035     Casado/a     0  \n",
       "143036  Unión Libre     0  \n",
       "143037  Unión Libre     0  \n",
       "143038     Casado/a     0  \n",
       "\n",
       "[143039 rows x 13 columns]"
      ]
     },
     "execution_count": 75,
     "metadata": {},
     "output_type": "execute_result"
    }
   ],
   "source": [
    "df"
   ]
  },
  {
   "cell_type": "code",
   "execution_count": 76,
   "id": "5f0fd76b-fd36-4e9b-8f64-2b7783f53ee0",
   "metadata": {},
   "outputs": [],
   "source": [
    "df.to_csv(\"morepipeline.csv\")"
   ]
  },
  {
   "cell_type": "code",
   "execution_count": 77,
   "id": "ee55791f-9ffd-4c5e-86e9-1fc7f9a7a24b",
   "metadata": {},
   "outputs": [],
   "source": [
    "# Importamos las librerias\n",
    "from sklearn import datasets\n",
    "from sklearn.model_selection import train_test_split\n",
    "from sklearn.ensemble import RandomForestClassifier\n",
    "from sklearn.tree import DecisionTreeClassifier\n",
    "from sklearn.metrics import accuracy_score, classification_report, confusion_matrix"
   ]
  },
  {
   "cell_type": "code",
   "execution_count": 78,
   "id": "41173e91-1426-407f-80eb-989af5dd1f79",
   "metadata": {},
   "outputs": [],
   "source": [
    "# Dividimos el conjunto de datos en características (X) y etiquetas (y)\n",
    "X = df[[\"Tasa\", \"Monto\", \"Plazo_Meses\", \"Sexo\", \"Tipo_cliente\", \"Edad\"]]\n",
    "y = df[\"Mora\"]"
   ]
  },
  {
   "cell_type": "code",
   "execution_count": 79,
   "id": "0a58c570-e023-4456-b39a-c2b791c5beb8",
   "metadata": {},
   "outputs": [
    {
     "data": {
      "text/html": [
       "<style>#sk-container-id-1 {color: black;background-color: white;}#sk-container-id-1 pre{padding: 0;}#sk-container-id-1 div.sk-toggleable {background-color: white;}#sk-container-id-1 label.sk-toggleable__label {cursor: pointer;display: block;width: 100%;margin-bottom: 0;padding: 0.3em;box-sizing: border-box;text-align: center;}#sk-container-id-1 label.sk-toggleable__label-arrow:before {content: \"▸\";float: left;margin-right: 0.25em;color: #696969;}#sk-container-id-1 label.sk-toggleable__label-arrow:hover:before {color: black;}#sk-container-id-1 div.sk-estimator:hover label.sk-toggleable__label-arrow:before {color: black;}#sk-container-id-1 div.sk-toggleable__content {max-height: 0;max-width: 0;overflow: hidden;text-align: left;background-color: #f0f8ff;}#sk-container-id-1 div.sk-toggleable__content pre {margin: 0.2em;color: black;border-radius: 0.25em;background-color: #f0f8ff;}#sk-container-id-1 input.sk-toggleable__control:checked~div.sk-toggleable__content {max-height: 200px;max-width: 100%;overflow: auto;}#sk-container-id-1 input.sk-toggleable__control:checked~label.sk-toggleable__label-arrow:before {content: \"▾\";}#sk-container-id-1 div.sk-estimator input.sk-toggleable__control:checked~label.sk-toggleable__label {background-color: #d4ebff;}#sk-container-id-1 div.sk-label input.sk-toggleable__control:checked~label.sk-toggleable__label {background-color: #d4ebff;}#sk-container-id-1 input.sk-hidden--visually {border: 0;clip: rect(1px 1px 1px 1px);clip: rect(1px, 1px, 1px, 1px);height: 1px;margin: -1px;overflow: hidden;padding: 0;position: absolute;width: 1px;}#sk-container-id-1 div.sk-estimator {font-family: monospace;background-color: #f0f8ff;border: 1px dotted black;border-radius: 0.25em;box-sizing: border-box;margin-bottom: 0.5em;}#sk-container-id-1 div.sk-estimator:hover {background-color: #d4ebff;}#sk-container-id-1 div.sk-parallel-item::after {content: \"\";width: 100%;border-bottom: 1px solid gray;flex-grow: 1;}#sk-container-id-1 div.sk-label:hover label.sk-toggleable__label {background-color: #d4ebff;}#sk-container-id-1 div.sk-serial::before {content: \"\";position: absolute;border-left: 1px solid gray;box-sizing: border-box;top: 0;bottom: 0;left: 50%;z-index: 0;}#sk-container-id-1 div.sk-serial {display: flex;flex-direction: column;align-items: center;background-color: white;padding-right: 0.2em;padding-left: 0.2em;position: relative;}#sk-container-id-1 div.sk-item {position: relative;z-index: 1;}#sk-container-id-1 div.sk-parallel {display: flex;align-items: stretch;justify-content: center;background-color: white;position: relative;}#sk-container-id-1 div.sk-item::before, #sk-container-id-1 div.sk-parallel-item::before {content: \"\";position: absolute;border-left: 1px solid gray;box-sizing: border-box;top: 0;bottom: 0;left: 50%;z-index: -1;}#sk-container-id-1 div.sk-parallel-item {display: flex;flex-direction: column;z-index: 1;position: relative;background-color: white;}#sk-container-id-1 div.sk-parallel-item:first-child::after {align-self: flex-end;width: 50%;}#sk-container-id-1 div.sk-parallel-item:last-child::after {align-self: flex-start;width: 50%;}#sk-container-id-1 div.sk-parallel-item:only-child::after {width: 0;}#sk-container-id-1 div.sk-dashed-wrapped {border: 1px dashed gray;margin: 0 0.4em 0.5em 0.4em;box-sizing: border-box;padding-bottom: 0.4em;background-color: white;}#sk-container-id-1 div.sk-label label {font-family: monospace;font-weight: bold;display: inline-block;line-height: 1.2em;}#sk-container-id-1 div.sk-label-container {text-align: center;}#sk-container-id-1 div.sk-container {/* jupyter's `normalize.less` sets `[hidden] { display: none; }` but bootstrap.min.css set `[hidden] { display: none !important; }` so we also need the `!important` here to be able to override the default hidden behavior on the sphinx rendered scikit-learn.org. See: https://github.com/scikit-learn/scikit-learn/issues/21755 */display: inline-block !important;position: relative;}#sk-container-id-1 div.sk-text-repr-fallback {display: none;}</style><div id=\"sk-container-id-1\" class=\"sk-top-container\"><div class=\"sk-text-repr-fallback\"><pre>RandomForestClassifier(random_state=42)</pre><b>In a Jupyter environment, please rerun this cell to show the HTML representation or trust the notebook. <br />On GitHub, the HTML representation is unable to render, please try loading this page with nbviewer.org.</b></div><div class=\"sk-container\" hidden><div class=\"sk-item\"><div class=\"sk-estimator sk-toggleable\"><input class=\"sk-toggleable__control sk-hidden--visually\" id=\"sk-estimator-id-1\" type=\"checkbox\" checked><label for=\"sk-estimator-id-1\" class=\"sk-toggleable__label sk-toggleable__label-arrow\">RandomForestClassifier</label><div class=\"sk-toggleable__content\"><pre>RandomForestClassifier(random_state=42)</pre></div></div></div></div></div>"
      ],
      "text/plain": [
       "RandomForestClassifier(random_state=42)"
      ]
     },
     "execution_count": 79,
     "metadata": {},
     "output_type": "execute_result"
    }
   ],
   "source": [
    "# Dividir el conjunto de datos en entrenamiento y prueba\n",
    "X_train, X_test, y_train, y_test = train_test_split(X, y, test_size=0.2, random_state=42)\n",
    "\n",
    "#Entrenar un modelo de clasificación (usando Random Forest como ejemplo)\n",
    "modelo = RandomForestClassifier(random_state=42)\n",
    "modelo.fit(X_train, y_train)"
   ]
  },
  {
   "cell_type": "code",
   "execution_count": 80,
   "id": "ceb98ec4-9392-4196-acec-aa73124746b7",
   "metadata": {},
   "outputs": [
    {
     "name": "stdout",
     "output_type": "stream",
     "text": [
      "\n",
      "Precisión del modelo: 0.83\n"
     ]
    },
    {
     "data": {
      "image/png": "[encoded data removed]",
      "text/plain": [
       "<Figure size 800x600 with 1 Axes>"
      ]
     },
     "metadata": {},
     "output_type": "display_data"
    },
    {
     "name": "stdout",
     "output_type": "stream",
     "text": [
      "\n",
      "Informe de Clasificación:\n",
      "              precision    recall  f1-score   support\n",
      "\n",
      "           0       0.87      0.95      0.91     24056\n",
      "           1       0.46      0.25      0.32      4552\n",
      "\n",
      "    accuracy                           0.83     28608\n",
      "   macro avg       0.67      0.60      0.62     28608\n",
      "weighted avg       0.80      0.83      0.81     28608\n",
      "\n"
     ]
    }
   ],
   "source": [
    "# Evaluación del modelo\n",
    "y_pred = modelo.predict(X_test)\n",
    "\n",
    "# Calcular la precisión del modelo\n",
    "precision = accuracy_score(y_test, y_pred)\n",
    "print(f\"\\nPrecisión del modelo: {precision:.2f}\")\n",
    "\n",
    "# Mostrar la matriz de confusión\n",
    "matriz_confusion = confusion_matrix(y_test, y_pred)\n",
    "plt.figure(figsize=(8, 6))\n",
    "sns.heatmap(matriz_confusion, annot=True, fmt='d', cmap='Blues', cbar=False)\n",
    "plt.xlabel('Predicciones')\n",
    "plt.ylabel('Valores reales')\n",
    "plt.title('Matriz de Confusión')\n",
    "plt.show()\n",
    "\n",
    "# Mostrar el informe de clasificación\n",
    "informe_clasificacion = classification_report(y_test, y_pred)\n",
    "print(\"\\nInforme de Clasificación:\")\n",
    "print(informe_clasificacion)"
   ]
  },
  {
   "cell_type": "markdown",
   "id": "78ab964e",
   "metadata": {},
   "source": [
    "Se obtiene un resultado del modelo de predicción de arroja un accuracy de 0.83 en la predicción de los clientes que son propenso a caer en mora, dado las variables del dataset."
   ]
  }
 ],
 "metadata": {
  "kernelspec": {
   "display_name": "Python 3 (ipykernel)",
   "language": "python",
   "name": "python3"
  },
  "language_info": {
   "codemirror_mode": {
    "name": "ipython",
    "version": 3
   },
   "file_extension": ".py",
   "mimetype": "text/x-python",
   "name": "python",
   "nbconvert_exporter": "python",
   "pygments_lexer": "ipython3",
   "version": "3.11.7"
  }
 },
 "nbformat": 4,
 "nbformat_minor": 5
}
